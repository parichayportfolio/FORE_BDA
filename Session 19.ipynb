{
 "cells": [
  {
   "cell_type": "code",
   "execution_count": 4,
   "id": "a0880fe5",
   "metadata": {},
   "outputs": [
    {
     "name": "stdout",
     "output_type": "stream",
     "text": [
      "Requirement already satisfied: pydataset in c:\\users\\public\\pyhton\\envs\\mlp\\lib\\site-packages (0.2.0)\n",
      "Requirement already satisfied: pandas in c:\\users\\public\\pyhton\\envs\\mlp\\lib\\site-packages (from pydataset) (1.5.2)\n",
      "Requirement already satisfied: python-dateutil>=2.8.1 in c:\\users\\public\\pyhton\\envs\\mlp\\lib\\site-packages (from pandas->pydataset) (2.8.2)\n",
      "Requirement already satisfied: pytz>=2020.1 in c:\\users\\public\\pyhton\\envs\\mlp\\lib\\site-packages (from pandas->pydataset) (2022.7)\n",
      "Requirement already satisfied: numpy>=1.21.0 in c:\\users\\public\\pyhton\\envs\\mlp\\lib\\site-packages (from pandas->pydataset) (1.23.5)\n",
      "Requirement already satisfied: six>=1.5 in c:\\users\\public\\pyhton\\envs\\mlp\\lib\\site-packages (from python-dateutil>=2.8.1->pandas->pydataset) (1.16.0)\n",
      "colon\n",
      "\n",
      "PyDataset Documentation (adopted from R Documentation. The displayed examples are in R)\n",
      "\n",
      "## Chemotherapy for Stage B/C colon cancer\n",
      "\n",
      "### Description\n",
      "\n",
      "These are data from one of the first successful trials of adjuvant\n",
      "chemotherapy for colon cancer. Levamisole is a low-toxicity compound\n",
      "previously used to treat worm infestations in animals; 5-FU is a moderately\n",
      "toxic (as these things go) chemotherapy agent. There are two records per\n",
      "person, one for recurrence and one for death\n",
      "\n",
      "### Usage\n",
      "\n",
      "    colon\n",
      "\n",
      "### Format\n",
      "\n",
      "id:\n",
      "\n",
      "id\n",
      "\n",
      "study:\n",
      "\n",
      "1 for all patients\n",
      "\n",
      "rx:\n",
      "\n",
      "Treatment - Obs(ervation), Lev(amisole), Lev(amisole)+5-FU\n",
      "\n",
      "sex:\n",
      "\n",
      "1=male\n",
      "\n",
      "age:\n",
      "\n",
      "in years\n",
      "\n",
      "obstruct:\n",
      "\n",
      "obstruction of colon by tumour\n",
      "\n",
      "perfor:\n",
      "\n",
      "perforation of colon\n",
      "\n",
      "adhere:\n",
      "\n",
      "adherence to nearby organs\n",
      "\n",
      "nodes:\n",
      "\n",
      "number of lymph nodes with detectable cancer\n",
      "\n",
      "time:\n",
      "\n",
      "days until event or censoring\n",
      "\n",
      "status:\n",
      "\n",
      "censoring status\n",
      "\n",
      "differ:\n",
      "\n",
      "differentiation of tumour (1=well, 2=moderate, 3=poor)\n",
      "\n",
      "extent:\n",
      "\n",
      "Extent of local spread (1=submucosa, 2=muscle, 3=serosa, 4=contiguous\n",
      "structures)\n",
      "\n",
      "surg:\n",
      "\n",
      "time from surgery to registration (0=short, 1=long)\n",
      "\n",
      "node4:\n",
      "\n",
      "more than 4 positive lymph nodes\n",
      "\n",
      "etype:\n",
      "\n",
      "event type: 1=recurrence,2=death\n",
      "\n",
      "### Note\n",
      "\n",
      "The study is originally described in Laurie (1989). The main report is found\n",
      "in Moertel (1990). This data set is closest to that of the final report in\n",
      "Moertel (1991). A version of the data with less follow-up time was used in the\n",
      "paper by Lin (1994).\n",
      "\n",
      "### References\n",
      "\n",
      "JA Laurie, CG Moertel, TR Fleming, HS Wieand, JE Leigh, J Rubin, GW McCormack,\n",
      "JB Gerstner, JE Krook and J Malliard. Surgical adjuvant therapy of large-bowel\n",
      "carcinoma: An evaluation of levamisole and the combination of levamisole and\n",
      "fluorouracil: The North Central Cancer Treatment Group and the Mayo Clinic. J\n",
      "Clinical Oncology, 7:1447-1456, 1989.\n",
      "\n",
      "DY Lin. Cox regression analysis of multivariate failure time data: the\n",
      "marginal approach. Statistics in Medicine, 13:2233-2247, 1994.\n",
      "\n",
      "CG Moertel, TR Fleming, JS MacDonald, DG Haller, JA Laurie, PJ Goodman, JS\n",
      "Ungerleider, WA Emerson, DC Tormey, JH Glick, MH Veeder and JA Maillard.\n",
      "Levamisole and fluorouracil for adjuvant therapy of resected colon carcinoma.\n",
      "New England J of Medicine, 332:352-358, 1990\\.\n",
      "\n",
      "CG Moertel, TR Fleming, JS MacDonald, DG Haller, JA Laurie, CM Tangen, JS\n",
      "Ungerleider, WA Emerson, DC Tormey, JH Glick, MH Veeder and JA Maillard,\n",
      "Fluorouracil plus Levamisole as and effective adjuvant therapy after resection\n",
      "of stage II colon carcinoma: a final report. Annals of Internal Med,\n",
      "122:321-326, 1991.\n",
      "\n",
      "\n"
     ]
    }
   ],
   "source": [
    "# Install PyDataset\n",
    "!pip install pydataset\n",
    "\n",
    "# For Datasets\n",
    "from pydataset import data \n",
    "\n",
    "# List all Datasets from PyDataset\n",
    "pydatasets = data()\n",
    "\n",
    "# Dataset : colon \n",
    "# ---------------\n",
    "\n",
    "data('colon', show_doc=True )\n",
    "colon = data('colon')"
   ]
  },
  {
   "cell_type": "code",
   "execution_count": 5,
   "id": "c2662c5f",
   "metadata": {},
   "outputs": [],
   "source": [
    "df = colon"
   ]
  },
  {
   "cell_type": "code",
   "execution_count": 6,
   "id": "6c11171f",
   "metadata": {},
   "outputs": [
    {
     "data": {
      "text/plain": [
       "id           0\n",
       "study        0\n",
       "rx           0\n",
       "sex          0\n",
       "age          0\n",
       "obstruct     0\n",
       "perfor       0\n",
       "adhere       0\n",
       "nodes       36\n",
       "status       0\n",
       "differ      46\n",
       "extent       0\n",
       "surg         0\n",
       "node4        0\n",
       "time         0\n",
       "etype        0\n",
       "dtype: int64"
      ]
     },
     "execution_count": 6,
     "metadata": {},
     "output_type": "execute_result"
    }
   ],
   "source": [
    "# Dataframe Information (Provide Information on Missing Data)\n",
    "variable_missing_data = df.isna().sum(); variable_missing_data # Variable-wise Missing Data Information"
   ]
  },
  {
   "cell_type": "code",
   "execution_count": 7,
   "id": "04ca7e00",
   "metadata": {},
   "outputs": [
    {
     "data": {
      "text/plain": [
       "Index(['id', 'study', 'rx', 'sex', 'age', 'obstruct', 'perfor', 'adhere',\n",
       "       'nodes', 'status', 'differ', 'extent', 'surg', 'node4', 'time',\n",
       "       'etype'],\n",
       "      dtype='object')"
      ]
     },
     "execution_count": 7,
     "metadata": {},
     "output_type": "execute_result"
    }
   ],
   "source": [
    "df.columns"
   ]
  },
  {
   "cell_type": "code",
   "execution_count": 8,
   "id": "4ddd0229",
   "metadata": {},
   "outputs": [],
   "source": [
    "column = df.columns"
   ]
  },
  {
   "cell_type": "code",
   "execution_count": 9,
   "id": "b6dc9d9c",
   "metadata": {},
   "outputs": [],
   "source": [
    "df_cat= df[['id', 'study', 'rx', 'sex','obstruct', 'perfor', 'adhere','status', 'differ', 'extent','surg', 'node4','etype']]"
   ]
  },
  {
   "cell_type": "code",
   "execution_count": 10,
   "id": "6f91b545",
   "metadata": {},
   "outputs": [],
   "source": [
    "df_ncat=df[['age','nodes','time']]"
   ]
  },
  {
   "cell_type": "code",
   "execution_count": 11,
   "id": "59794e41",
   "metadata": {},
   "outputs": [
    {
     "data": {
      "text/plain": [
       "id           0\n",
       "study        0\n",
       "rx           0\n",
       "sex          0\n",
       "age          0\n",
       "obstruct     0\n",
       "perfor       0\n",
       "adhere       0\n",
       "nodes       36\n",
       "status       0\n",
       "differ      46\n",
       "extent       0\n",
       "surg         0\n",
       "node4        0\n",
       "time         0\n",
       "etype        0\n",
       "dtype: int64"
      ]
     },
     "execution_count": 11,
     "metadata": {},
     "output_type": "execute_result"
    }
   ],
   "source": [
    "variable_missing_data = df.isna().sum(); variable_missing_data"
   ]
  },
  {
   "cell_type": "code",
   "execution_count": 12,
   "id": "52a0fb1d",
   "metadata": {},
   "outputs": [
    {
     "data": {
      "text/plain": [
       "id           0\n",
       "study        0\n",
       "rx           0\n",
       "sex          0\n",
       "obstruct     0\n",
       "perfor       0\n",
       "adhere       0\n",
       "status       0\n",
       "differ      46\n",
       "extent       0\n",
       "surg         0\n",
       "node4        0\n",
       "etype        0\n",
       "dtype: int64"
      ]
     },
     "execution_count": 12,
     "metadata": {},
     "output_type": "execute_result"
    }
   ],
   "source": [
    "variable_missing_data = df_cat.isna().sum(); variable_missing_data"
   ]
  },
  {
   "cell_type": "code",
   "execution_count": 13,
   "id": "8d7eb1dc",
   "metadata": {},
   "outputs": [
    {
     "data": {
      "text/plain": [
       "age       0\n",
       "nodes    36\n",
       "time      0\n",
       "dtype: int64"
      ]
     },
     "execution_count": 13,
     "metadata": {},
     "output_type": "execute_result"
    }
   ],
   "source": [
    "variable_missing_data = df_ncat.isna().sum(); variable_missing_data"
   ]
  },
  {
   "cell_type": "code",
   "execution_count": 14,
   "id": "736df2db",
   "metadata": {},
   "outputs": [
    {
     "data": {
      "text/plain": [
       "1004    1\n",
       "1290    1\n",
       "765     1\n",
       "587     1\n",
       "588     1\n",
       "dtype: int64"
      ]
     },
     "execution_count": 14,
     "metadata": {},
     "output_type": "execute_result"
    }
   ],
   "source": [
    "record_missing_data = df.isna().sum(axis=1).sort_values(ascending=False).head(5); record_missing_data"
   ]
  },
  {
   "cell_type": "code",
   "execution_count": 15,
   "id": "a94ccf7c",
   "metadata": {},
   "outputs": [],
   "source": [
    "# leave this cell blank, and explain later"
   ]
  },
  {
   "cell_type": "code",
   "execution_count": 16,
   "id": "8facbbac",
   "metadata": {},
   "outputs": [
    {
     "data": {
      "text/html": [
       "<div>\n",
       "<style scoped>\n",
       "    .dataframe tbody tr th:only-of-type {\n",
       "        vertical-align: middle;\n",
       "    }\n",
       "\n",
       "    .dataframe tbody tr th {\n",
       "        vertical-align: top;\n",
       "    }\n",
       "\n",
       "    .dataframe thead th {\n",
       "        text-align: right;\n",
       "    }\n",
       "</style>\n",
       "<table border=\"1\" class=\"dataframe\">\n",
       "  <thead>\n",
       "    <tr style=\"text-align: right;\">\n",
       "      <th></th>\n",
       "      <th>id</th>\n",
       "      <th>study</th>\n",
       "      <th>rx</th>\n",
       "      <th>sex</th>\n",
       "      <th>age</th>\n",
       "      <th>obstruct</th>\n",
       "      <th>perfor</th>\n",
       "      <th>adhere</th>\n",
       "      <th>nodes</th>\n",
       "      <th>status</th>\n",
       "      <th>differ</th>\n",
       "      <th>extent</th>\n",
       "      <th>surg</th>\n",
       "      <th>node4</th>\n",
       "      <th>time</th>\n",
       "      <th>etype</th>\n",
       "    </tr>\n",
       "  </thead>\n",
       "  <tbody>\n",
       "    <tr>\n",
       "      <th>1</th>\n",
       "      <td>False</td>\n",
       "      <td>False</td>\n",
       "      <td>False</td>\n",
       "      <td>False</td>\n",
       "      <td>False</td>\n",
       "      <td>False</td>\n",
       "      <td>False</td>\n",
       "      <td>False</td>\n",
       "      <td>False</td>\n",
       "      <td>False</td>\n",
       "      <td>False</td>\n",
       "      <td>False</td>\n",
       "      <td>False</td>\n",
       "      <td>False</td>\n",
       "      <td>False</td>\n",
       "      <td>False</td>\n",
       "    </tr>\n",
       "    <tr>\n",
       "      <th>2</th>\n",
       "      <td>False</td>\n",
       "      <td>False</td>\n",
       "      <td>False</td>\n",
       "      <td>False</td>\n",
       "      <td>False</td>\n",
       "      <td>False</td>\n",
       "      <td>False</td>\n",
       "      <td>False</td>\n",
       "      <td>False</td>\n",
       "      <td>False</td>\n",
       "      <td>False</td>\n",
       "      <td>False</td>\n",
       "      <td>False</td>\n",
       "      <td>False</td>\n",
       "      <td>False</td>\n",
       "      <td>False</td>\n",
       "    </tr>\n",
       "    <tr>\n",
       "      <th>3</th>\n",
       "      <td>False</td>\n",
       "      <td>False</td>\n",
       "      <td>False</td>\n",
       "      <td>False</td>\n",
       "      <td>False</td>\n",
       "      <td>False</td>\n",
       "      <td>False</td>\n",
       "      <td>False</td>\n",
       "      <td>False</td>\n",
       "      <td>False</td>\n",
       "      <td>False</td>\n",
       "      <td>False</td>\n",
       "      <td>False</td>\n",
       "      <td>False</td>\n",
       "      <td>False</td>\n",
       "      <td>False</td>\n",
       "    </tr>\n",
       "    <tr>\n",
       "      <th>4</th>\n",
       "      <td>False</td>\n",
       "      <td>False</td>\n",
       "      <td>False</td>\n",
       "      <td>False</td>\n",
       "      <td>False</td>\n",
       "      <td>False</td>\n",
       "      <td>False</td>\n",
       "      <td>False</td>\n",
       "      <td>False</td>\n",
       "      <td>False</td>\n",
       "      <td>False</td>\n",
       "      <td>False</td>\n",
       "      <td>False</td>\n",
       "      <td>False</td>\n",
       "      <td>False</td>\n",
       "      <td>False</td>\n",
       "    </tr>\n",
       "    <tr>\n",
       "      <th>5</th>\n",
       "      <td>False</td>\n",
       "      <td>False</td>\n",
       "      <td>False</td>\n",
       "      <td>False</td>\n",
       "      <td>False</td>\n",
       "      <td>False</td>\n",
       "      <td>False</td>\n",
       "      <td>False</td>\n",
       "      <td>False</td>\n",
       "      <td>False</td>\n",
       "      <td>False</td>\n",
       "      <td>False</td>\n",
       "      <td>False</td>\n",
       "      <td>False</td>\n",
       "      <td>False</td>\n",
       "      <td>False</td>\n",
       "    </tr>\n",
       "    <tr>\n",
       "      <th>...</th>\n",
       "      <td>...</td>\n",
       "      <td>...</td>\n",
       "      <td>...</td>\n",
       "      <td>...</td>\n",
       "      <td>...</td>\n",
       "      <td>...</td>\n",
       "      <td>...</td>\n",
       "      <td>...</td>\n",
       "      <td>...</td>\n",
       "      <td>...</td>\n",
       "      <td>...</td>\n",
       "      <td>...</td>\n",
       "      <td>...</td>\n",
       "      <td>...</td>\n",
       "      <td>...</td>\n",
       "      <td>...</td>\n",
       "    </tr>\n",
       "    <tr>\n",
       "      <th>1854</th>\n",
       "      <td>False</td>\n",
       "      <td>False</td>\n",
       "      <td>False</td>\n",
       "      <td>False</td>\n",
       "      <td>False</td>\n",
       "      <td>False</td>\n",
       "      <td>False</td>\n",
       "      <td>False</td>\n",
       "      <td>False</td>\n",
       "      <td>False</td>\n",
       "      <td>False</td>\n",
       "      <td>False</td>\n",
       "      <td>False</td>\n",
       "      <td>False</td>\n",
       "      <td>False</td>\n",
       "      <td>False</td>\n",
       "    </tr>\n",
       "    <tr>\n",
       "      <th>1855</th>\n",
       "      <td>False</td>\n",
       "      <td>False</td>\n",
       "      <td>False</td>\n",
       "      <td>False</td>\n",
       "      <td>False</td>\n",
       "      <td>False</td>\n",
       "      <td>False</td>\n",
       "      <td>False</td>\n",
       "      <td>False</td>\n",
       "      <td>False</td>\n",
       "      <td>False</td>\n",
       "      <td>False</td>\n",
       "      <td>False</td>\n",
       "      <td>False</td>\n",
       "      <td>False</td>\n",
       "      <td>False</td>\n",
       "    </tr>\n",
       "    <tr>\n",
       "      <th>1856</th>\n",
       "      <td>False</td>\n",
       "      <td>False</td>\n",
       "      <td>False</td>\n",
       "      <td>False</td>\n",
       "      <td>False</td>\n",
       "      <td>False</td>\n",
       "      <td>False</td>\n",
       "      <td>False</td>\n",
       "      <td>False</td>\n",
       "      <td>False</td>\n",
       "      <td>False</td>\n",
       "      <td>False</td>\n",
       "      <td>False</td>\n",
       "      <td>False</td>\n",
       "      <td>False</td>\n",
       "      <td>False</td>\n",
       "    </tr>\n",
       "    <tr>\n",
       "      <th>1857</th>\n",
       "      <td>False</td>\n",
       "      <td>False</td>\n",
       "      <td>False</td>\n",
       "      <td>False</td>\n",
       "      <td>False</td>\n",
       "      <td>False</td>\n",
       "      <td>False</td>\n",
       "      <td>False</td>\n",
       "      <td>False</td>\n",
       "      <td>False</td>\n",
       "      <td>False</td>\n",
       "      <td>False</td>\n",
       "      <td>False</td>\n",
       "      <td>False</td>\n",
       "      <td>False</td>\n",
       "      <td>False</td>\n",
       "    </tr>\n",
       "    <tr>\n",
       "      <th>1858</th>\n",
       "      <td>False</td>\n",
       "      <td>False</td>\n",
       "      <td>False</td>\n",
       "      <td>False</td>\n",
       "      <td>False</td>\n",
       "      <td>False</td>\n",
       "      <td>False</td>\n",
       "      <td>False</td>\n",
       "      <td>False</td>\n",
       "      <td>False</td>\n",
       "      <td>False</td>\n",
       "      <td>False</td>\n",
       "      <td>False</td>\n",
       "      <td>False</td>\n",
       "      <td>False</td>\n",
       "      <td>False</td>\n",
       "    </tr>\n",
       "  </tbody>\n",
       "</table>\n",
       "<p>1858 rows × 16 columns</p>\n",
       "</div>"
      ],
      "text/plain": [
       "         id  study     rx    sex    age  obstruct  perfor  adhere  nodes  \\\n",
       "1     False  False  False  False  False     False   False   False  False   \n",
       "2     False  False  False  False  False     False   False   False  False   \n",
       "3     False  False  False  False  False     False   False   False  False   \n",
       "4     False  False  False  False  False     False   False   False  False   \n",
       "5     False  False  False  False  False     False   False   False  False   \n",
       "...     ...    ...    ...    ...    ...       ...     ...     ...    ...   \n",
       "1854  False  False  False  False  False     False   False   False  False   \n",
       "1855  False  False  False  False  False     False   False   False  False   \n",
       "1856  False  False  False  False  False     False   False   False  False   \n",
       "1857  False  False  False  False  False     False   False   False  False   \n",
       "1858  False  False  False  False  False     False   False   False  False   \n",
       "\n",
       "      status  differ  extent   surg  node4   time  etype  \n",
       "1      False   False   False  False  False  False  False  \n",
       "2      False   False   False  False  False  False  False  \n",
       "3      False   False   False  False  False  False  False  \n",
       "4      False   False   False  False  False  False  False  \n",
       "5      False   False   False  False  False  False  False  \n",
       "...      ...     ...     ...    ...    ...    ...    ...  \n",
       "1854   False   False   False  False  False  False  False  \n",
       "1855   False   False   False  False  False  False  False  \n",
       "1856   False   False   False  False  False  False  False  \n",
       "1857   False   False   False  False  False  False  False  \n",
       "1858   False   False   False  False  False  False  False  \n",
       "\n",
       "[1858 rows x 16 columns]"
      ]
     },
     "execution_count": 16,
     "metadata": {},
     "output_type": "execute_result"
    }
   ],
   "source": [
    "df.isnull()"
   ]
  },
  {
   "cell_type": "code",
   "execution_count": 17,
   "id": "8c19e5bf",
   "metadata": {},
   "outputs": [],
   "source": [
    "df.fillna('',inplace=True)"
   ]
  },
  {
   "cell_type": "code",
   "execution_count": 18,
   "id": "999f931e",
   "metadata": {},
   "outputs": [],
   "source": [
    "# Required Libraries\n",
    "from pydataset import data # For Datasets\n",
    "import pandas as pd, numpy as np # For Data Manipulation\n",
    "from sklearn.preprocessing import LabelEncoder, OrdinalEncoder # For Encoding Categorical Data [Nominal | Ordinal]\n",
    "from sklearn.preprocessing import OneHotEncoder # For Creating Dummy Variables of Categorical Data [Nominal]\n",
    "from sklearn.impute import SimpleImputer, KNNImputer # For Imputation of Missing Data\n",
    "from sklearn.preprocessing import StandardScaler, MinMaxScaler, RobustScaler # For Rescaling Data\n",
    "from sklearn.model_selection import train_test_split # For Splitting Data into Training & Testing Sets "
   ]
  },
  {
   "cell_type": "code",
   "execution_count": 19,
   "id": "ff2eff90",
   "metadata": {},
   "outputs": [
    {
     "name": "stdout",
     "output_type": "stream",
     "text": [
      "<class 'pandas.core.frame.DataFrame'>\n",
      "RangeIndex: 1858 entries, 0 to 1857\n",
      "Data columns (total 13 columns):\n",
      " #   Column    Non-Null Count  Dtype \n",
      "---  ------    --------------  ----- \n",
      " 0   id        1858 non-null   object\n",
      " 1   study     1858 non-null   object\n",
      " 2   rx        1858 non-null   object\n",
      " 3   sex       1858 non-null   object\n",
      " 4   obstruct  1858 non-null   object\n",
      " 5   perfor    1858 non-null   object\n",
      " 6   adhere    1858 non-null   object\n",
      " 7   status    1858 non-null   object\n",
      " 8   differ    1858 non-null   object\n",
      " 9   extent    1858 non-null   object\n",
      " 10  surg      1858 non-null   object\n",
      " 11  node4     1858 non-null   object\n",
      " 12  etype     1858 non-null   object\n",
      "dtypes: object(13)\n",
      "memory usage: 188.8+ KB\n"
     ]
    }
   ],
   "source": [
    "si_cat = SimpleImputer(missing_values=np.nan, strategy='most_frequent') # Strategy = median [When Odd Number of Categories Exists]\n",
    "si_cat_fit = si_cat.fit_transform(df_cat)\n",
    "df_cat_mdi = pd.DataFrame(si_cat_fit, columns=df_cat.columns); df_cat_mdi # Missing Categorical Data Imputed Subset\n",
    "df_cat_mdi.info()"
   ]
  },
  {
   "cell_type": "code",
   "execution_count": 20,
   "id": "63433ac1",
   "metadata": {},
   "outputs": [
    {
     "name": "stdout",
     "output_type": "stream",
     "text": [
      "<class 'pandas.core.frame.DataFrame'>\n",
      "RangeIndex: 1858 entries, 0 to 1857\n",
      "Data columns (total 3 columns):\n",
      " #   Column  Non-Null Count  Dtype  \n",
      "---  ------  --------------  -----  \n",
      " 0   age     1858 non-null   float64\n",
      " 1   nodes   1858 non-null   float64\n",
      " 2   time    1858 non-null   float64\n",
      "dtypes: float64(3)\n",
      "memory usage: 43.7 KB\n"
     ]
    }
   ],
   "source": [
    "si_noncat = SimpleImputer(missing_values=np.nan, strategy='mean') # Strategy : mean | median | most_frequent | constant\n",
    "si_noncat_fit = si_noncat.fit_transform(df_ncat)\n",
    "df_noncat_mdi_si = pd.DataFrame(si_noncat_fit, columns=df_ncat.columns); df_noncat_mdi_si # Missing Non-Categorical Data Imputed Subset using Simple Imputer\n",
    "df_noncat_mdi_si.info()"
   ]
  },
  {
   "cell_type": "code",
   "execution_count": 21,
   "id": "ff99c944",
   "metadata": {},
   "outputs": [],
   "source": [
    "df_cat_mdt = df_cat_mdi.copy() # Missing Categorical Treated Dataset\n",
    "df_noncat_mdt = df_noncat_mdi_si.copy() # Missing Non-Categorical Treated Dataset"
   ]
  },
  {
   "cell_type": "code",
   "execution_count": 22,
   "id": "168a96a2",
   "metadata": {},
   "outputs": [],
   "source": [
    "df_cat_mdt_code = df_cat_mdt.copy() "
   ]
  },
  {
   "cell_type": "code",
   "execution_count": 23,
   "id": "e90decf3",
   "metadata": {},
   "outputs": [
    {
     "ename": "ValueError",
     "evalue": "Shape of passed values is (1858, 13), indices imply (1858, 1)",
     "output_type": "error",
     "traceback": [
      "\u001b[1;31m---------------------------------------------------------------------------\u001b[0m",
      "\u001b[1;31mValueError\u001b[0m                                Traceback (most recent call last)",
      "Cell \u001b[1;32mIn[23], line 3\u001b[0m\n\u001b[0;32m      1\u001b[0m oe \u001b[38;5;241m=\u001b[39m OrdinalEncoder()\n\u001b[0;32m      2\u001b[0m oe_fit \u001b[38;5;241m=\u001b[39m oe\u001b[38;5;241m.\u001b[39mfit_transform(df_cat_mdt_code)\n\u001b[1;32m----> 3\u001b[0m df_cat_code_oe \u001b[38;5;241m=\u001b[39m \u001b[43mpd\u001b[49m\u001b[38;5;241;43m.\u001b[39;49m\u001b[43mDataFrame\u001b[49m\u001b[43m(\u001b[49m\u001b[43moe_fit\u001b[49m\u001b[43m,\u001b[49m\u001b[43m \u001b[49m\u001b[43mcolumns\u001b[49m\u001b[38;5;241;43m=\u001b[39;49m\u001b[43m[\u001b[49m\u001b[38;5;124;43m'\u001b[39;49m\u001b[38;5;124;43mrx\u001b[39;49m\u001b[38;5;124;43m'\u001b[39;49m\u001b[43m]\u001b[49m\u001b[43m)\u001b[49m; df_cat_code_oe\n\u001b[0;32m      4\u001b[0m df_cat_mdt_code_oe \u001b[38;5;241m=\u001b[39m df_cat_mdt_code\u001b[38;5;241m.\u001b[39mjoin(df_cat_code_oe); df_cat_mdt_code_oe\n",
      "File \u001b[1;32mC:\\Users\\Public\\pyhton\\envs\\MLP\\lib\\site-packages\\pandas\\core\\frame.py:721\u001b[0m, in \u001b[0;36mDataFrame.__init__\u001b[1;34m(self, data, index, columns, dtype, copy)\u001b[0m\n\u001b[0;32m    711\u001b[0m         mgr \u001b[38;5;241m=\u001b[39m dict_to_mgr(\n\u001b[0;32m    712\u001b[0m             \u001b[38;5;66;03m# error: Item \"ndarray\" of \"Union[ndarray, Series, Index]\" has no\u001b[39;00m\n\u001b[0;32m    713\u001b[0m             \u001b[38;5;66;03m# attribute \"name\"\u001b[39;00m\n\u001b[1;32m   (...)\u001b[0m\n\u001b[0;32m    718\u001b[0m             typ\u001b[38;5;241m=\u001b[39mmanager,\n\u001b[0;32m    719\u001b[0m         )\n\u001b[0;32m    720\u001b[0m     \u001b[38;5;28;01melse\u001b[39;00m:\n\u001b[1;32m--> 721\u001b[0m         mgr \u001b[38;5;241m=\u001b[39m \u001b[43mndarray_to_mgr\u001b[49m\u001b[43m(\u001b[49m\n\u001b[0;32m    722\u001b[0m \u001b[43m            \u001b[49m\u001b[43mdata\u001b[49m\u001b[43m,\u001b[49m\n\u001b[0;32m    723\u001b[0m \u001b[43m            \u001b[49m\u001b[43mindex\u001b[49m\u001b[43m,\u001b[49m\n\u001b[0;32m    724\u001b[0m \u001b[43m            \u001b[49m\u001b[43mcolumns\u001b[49m\u001b[43m,\u001b[49m\n\u001b[0;32m    725\u001b[0m \u001b[43m            \u001b[49m\u001b[43mdtype\u001b[49m\u001b[38;5;241;43m=\u001b[39;49m\u001b[43mdtype\u001b[49m\u001b[43m,\u001b[49m\n\u001b[0;32m    726\u001b[0m \u001b[43m            \u001b[49m\u001b[43mcopy\u001b[49m\u001b[38;5;241;43m=\u001b[39;49m\u001b[43mcopy\u001b[49m\u001b[43m,\u001b[49m\n\u001b[0;32m    727\u001b[0m \u001b[43m            \u001b[49m\u001b[43mtyp\u001b[49m\u001b[38;5;241;43m=\u001b[39;49m\u001b[43mmanager\u001b[49m\u001b[43m,\u001b[49m\n\u001b[0;32m    728\u001b[0m \u001b[43m        \u001b[49m\u001b[43m)\u001b[49m\n\u001b[0;32m    730\u001b[0m \u001b[38;5;66;03m# For data is list-like, or Iterable (will consume into list)\u001b[39;00m\n\u001b[0;32m    731\u001b[0m \u001b[38;5;28;01melif\u001b[39;00m is_list_like(data):\n",
      "File \u001b[1;32mC:\\Users\\Public\\pyhton\\envs\\MLP\\lib\\site-packages\\pandas\\core\\internals\\construction.py:349\u001b[0m, in \u001b[0;36mndarray_to_mgr\u001b[1;34m(values, index, columns, dtype, copy, typ)\u001b[0m\n\u001b[0;32m    344\u001b[0m \u001b[38;5;66;03m# _prep_ndarraylike ensures that values.ndim == 2 at this point\u001b[39;00m\n\u001b[0;32m    345\u001b[0m index, columns \u001b[38;5;241m=\u001b[39m _get_axes(\n\u001b[0;32m    346\u001b[0m     values\u001b[38;5;241m.\u001b[39mshape[\u001b[38;5;241m0\u001b[39m], values\u001b[38;5;241m.\u001b[39mshape[\u001b[38;5;241m1\u001b[39m], index\u001b[38;5;241m=\u001b[39mindex, columns\u001b[38;5;241m=\u001b[39mcolumns\n\u001b[0;32m    347\u001b[0m )\n\u001b[1;32m--> 349\u001b[0m \u001b[43m_check_values_indices_shape_match\u001b[49m\u001b[43m(\u001b[49m\u001b[43mvalues\u001b[49m\u001b[43m,\u001b[49m\u001b[43m \u001b[49m\u001b[43mindex\u001b[49m\u001b[43m,\u001b[49m\u001b[43m \u001b[49m\u001b[43mcolumns\u001b[49m\u001b[43m)\u001b[49m\n\u001b[0;32m    351\u001b[0m \u001b[38;5;28;01mif\u001b[39;00m typ \u001b[38;5;241m==\u001b[39m \u001b[38;5;124m\"\u001b[39m\u001b[38;5;124marray\u001b[39m\u001b[38;5;124m\"\u001b[39m:\n\u001b[0;32m    353\u001b[0m     \u001b[38;5;28;01mif\u001b[39;00m \u001b[38;5;28missubclass\u001b[39m(values\u001b[38;5;241m.\u001b[39mdtype\u001b[38;5;241m.\u001b[39mtype, \u001b[38;5;28mstr\u001b[39m):\n",
      "File \u001b[1;32mC:\\Users\\Public\\pyhton\\envs\\MLP\\lib\\site-packages\\pandas\\core\\internals\\construction.py:420\u001b[0m, in \u001b[0;36m_check_values_indices_shape_match\u001b[1;34m(values, index, columns)\u001b[0m\n\u001b[0;32m    418\u001b[0m passed \u001b[38;5;241m=\u001b[39m values\u001b[38;5;241m.\u001b[39mshape\n\u001b[0;32m    419\u001b[0m implied \u001b[38;5;241m=\u001b[39m (\u001b[38;5;28mlen\u001b[39m(index), \u001b[38;5;28mlen\u001b[39m(columns))\n\u001b[1;32m--> 420\u001b[0m \u001b[38;5;28;01mraise\u001b[39;00m \u001b[38;5;167;01mValueError\u001b[39;00m(\u001b[38;5;124mf\u001b[39m\u001b[38;5;124m\"\u001b[39m\u001b[38;5;124mShape of passed values is \u001b[39m\u001b[38;5;132;01m{\u001b[39;00mpassed\u001b[38;5;132;01m}\u001b[39;00m\u001b[38;5;124m, indices imply \u001b[39m\u001b[38;5;132;01m{\u001b[39;00mimplied\u001b[38;5;132;01m}\u001b[39;00m\u001b[38;5;124m\"\u001b[39m)\n",
      "\u001b[1;31mValueError\u001b[0m: Shape of passed values is (1858, 13), indices imply (1858, 1)"
     ]
    }
   ],
   "source": [
    "oe = OrdinalEncoder()\n",
    "oe_fit = oe.fit_transform(df_cat_mdt_code)\n",
    "df_cat_code_oe = pd.DataFrame(oe_fit, columns=['rx']); df_cat_code_oe\n",
    "df_cat_mdt_code_oe = df_cat_mdt_code.join(df_cat_code_oe); df_cat_mdt_code_oe # (Missing Data Treated) Numeric Coded Categorical Dataset using Scikit Learn Ordinal Encoder"
   ]
  },
  {
   "cell_type": "raw",
   "id": "66bd0541",
   "metadata": {},
   "source": []
  },
  {
   "cell_type": "markdown",
   "id": "7655eaa6",
   "metadata": {},
   "source": []
  }
 ],
 "metadata": {
  "kernelspec": {
   "display_name": "Python 3 (ipykernel)",
   "language": "python",
   "name": "python3"
  },
  "language_info": {
   "codemirror_mode": {
    "name": "ipython",
    "version": 3
   },
   "file_extension": ".py",
   "mimetype": "text/x-python",
   "name": "python",
   "nbconvert_exporter": "python",
   "pygments_lexer": "ipython3",
   "version": "3.10.9"
  }
 },
 "nbformat": 4,
 "nbformat_minor": 5
}
