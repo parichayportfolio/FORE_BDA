{
  "nbformat": 4,
  "nbformat_minor": 0,
  "metadata": {
    "colab": {
      "provenance": [],
      "authorship_tag": "ABX9TyMyjMQVI21zo0C75zEGsgEm",
      "include_colab_link": true
    },
    "kernelspec": {
      "name": "python3",
      "display_name": "Python 3"
    },
    "language_info": {
      "name": "python"
    }
  },
  "cells": [
    {
      "cell_type": "markdown",
      "metadata": {
        "id": "view-in-github",
        "colab_type": "text"
      },
      "source": [
        "<a href=\"https://colab.research.google.com/github/parichayportfolio/FORE_BDA/blob/main/311036_DLNLP_test.ipynb\" target=\"_parent\"><img src=\"https://colab.research.google.com/assets/colab-badge.svg\" alt=\"Open In Colab\"/></a>"
      ]
    },
    {
      "cell_type": "markdown",
      "source": [
        "**A. Call necessary libraries to build a NN model**"
      ],
      "metadata": {
        "id": "2DTCj7cNk9EQ"
      }
    },
    {
      "cell_type": "code",
      "execution_count": null,
      "metadata": {
        "id": "hJK3-dJeitMQ"
      },
      "outputs": [],
      "source": [
        "import pandas as pd\n",
        "import numpy as np\n",
        "from  pathlib import Path\n",
        "\n",
        "\n",
        "import tensorflow as tf\n",
        "from tensorflow import keras\n",
        "from tensorflow.keras import layers\n",
        "\n",
        "from sklearn.preprocessing import StandardScaler, MinMaxScaler\n",
        "from sklearn.preprocessing import LabelEncoder, OneHotEncoder\n",
        "from sklearn.model_selection import train_test_split"
      ]
    },
    {
      "cell_type": "code",
      "source": [
        "# Display multiple commands output from a cell\n",
        "from IPython.core.interactiveshell import InteractiveShell\n",
        "InteractiveShell.ast_node_interactivity = \"all\""
      ],
      "metadata": {
        "id": "KuluGacSjHxd"
      },
      "execution_count": null,
      "outputs": []
    },
    {
      "cell_type": "markdown",
      "source": [
        "**B. Read data**"
      ],
      "metadata": {
        "id": "nR1s_Bc1lDEU"
      }
    },
    {
      "cell_type": "code",
      "source": [
        "df = pd.read_csv('/content/sample_data/california_housing_train.csv')\n",
        "df.head()"
      ],
      "metadata": {
        "colab": {
          "base_uri": "https://localhost:8080/",
          "height": 206
        },
        "id": "VuIIUDdAj8tA",
        "outputId": "25541d42-8697-437a-9a21-31b283f490b9"
      },
      "execution_count": null,
      "outputs": [
        {
          "output_type": "execute_result",
          "data": {
            "text/plain": [
              "   longitude  latitude  housing_median_age  total_rooms  total_bedrooms  \\\n",
              "0    -114.31     34.19                15.0       5612.0          1283.0   \n",
              "1    -114.47     34.40                19.0       7650.0          1901.0   \n",
              "2    -114.56     33.69                17.0        720.0           174.0   \n",
              "3    -114.57     33.64                14.0       1501.0           337.0   \n",
              "4    -114.57     33.57                20.0       1454.0           326.0   \n",
              "\n",
              "   population  households  median_income  median_house_value  \n",
              "0      1015.0       472.0         1.4936             66900.0  \n",
              "1      1129.0       463.0         1.8200             80100.0  \n",
              "2       333.0       117.0         1.6509             85700.0  \n",
              "3       515.0       226.0         3.1917             73400.0  \n",
              "4       624.0       262.0         1.9250             65500.0  "
            ],
            "text/html": [
              "\n",
              "\n",
              "  <div id=\"df-a737e9d9-594d-4688-9a7d-67363ea9e68c\">\n",
              "    <div class=\"colab-df-container\">\n",
              "      <div>\n",
              "<style scoped>\n",
              "    .dataframe tbody tr th:only-of-type {\n",
              "        vertical-align: middle;\n",
              "    }\n",
              "\n",
              "    .dataframe tbody tr th {\n",
              "        vertical-align: top;\n",
              "    }\n",
              "\n",
              "    .dataframe thead th {\n",
              "        text-align: right;\n",
              "    }\n",
              "</style>\n",
              "<table border=\"1\" class=\"dataframe\">\n",
              "  <thead>\n",
              "    <tr style=\"text-align: right;\">\n",
              "      <th></th>\n",
              "      <th>longitude</th>\n",
              "      <th>latitude</th>\n",
              "      <th>housing_median_age</th>\n",
              "      <th>total_rooms</th>\n",
              "      <th>total_bedrooms</th>\n",
              "      <th>population</th>\n",
              "      <th>households</th>\n",
              "      <th>median_income</th>\n",
              "      <th>median_house_value</th>\n",
              "    </tr>\n",
              "  </thead>\n",
              "  <tbody>\n",
              "    <tr>\n",
              "      <th>0</th>\n",
              "      <td>-114.31</td>\n",
              "      <td>34.19</td>\n",
              "      <td>15.0</td>\n",
              "      <td>5612.0</td>\n",
              "      <td>1283.0</td>\n",
              "      <td>1015.0</td>\n",
              "      <td>472.0</td>\n",
              "      <td>1.4936</td>\n",
              "      <td>66900.0</td>\n",
              "    </tr>\n",
              "    <tr>\n",
              "      <th>1</th>\n",
              "      <td>-114.47</td>\n",
              "      <td>34.40</td>\n",
              "      <td>19.0</td>\n",
              "      <td>7650.0</td>\n",
              "      <td>1901.0</td>\n",
              "      <td>1129.0</td>\n",
              "      <td>463.0</td>\n",
              "      <td>1.8200</td>\n",
              "      <td>80100.0</td>\n",
              "    </tr>\n",
              "    <tr>\n",
              "      <th>2</th>\n",
              "      <td>-114.56</td>\n",
              "      <td>33.69</td>\n",
              "      <td>17.0</td>\n",
              "      <td>720.0</td>\n",
              "      <td>174.0</td>\n",
              "      <td>333.0</td>\n",
              "      <td>117.0</td>\n",
              "      <td>1.6509</td>\n",
              "      <td>85700.0</td>\n",
              "    </tr>\n",
              "    <tr>\n",
              "      <th>3</th>\n",
              "      <td>-114.57</td>\n",
              "      <td>33.64</td>\n",
              "      <td>14.0</td>\n",
              "      <td>1501.0</td>\n",
              "      <td>337.0</td>\n",
              "      <td>515.0</td>\n",
              "      <td>226.0</td>\n",
              "      <td>3.1917</td>\n",
              "      <td>73400.0</td>\n",
              "    </tr>\n",
              "    <tr>\n",
              "      <th>4</th>\n",
              "      <td>-114.57</td>\n",
              "      <td>33.57</td>\n",
              "      <td>20.0</td>\n",
              "      <td>1454.0</td>\n",
              "      <td>326.0</td>\n",
              "      <td>624.0</td>\n",
              "      <td>262.0</td>\n",
              "      <td>1.9250</td>\n",
              "      <td>65500.0</td>\n",
              "    </tr>\n",
              "  </tbody>\n",
              "</table>\n",
              "</div>\n",
              "      <button class=\"colab-df-convert\" onclick=\"convertToInteractive('df-a737e9d9-594d-4688-9a7d-67363ea9e68c')\"\n",
              "              title=\"Convert this dataframe to an interactive table.\"\n",
              "              style=\"display:none;\">\n",
              "\n",
              "  <svg xmlns=\"http://www.w3.org/2000/svg\" height=\"24px\"viewBox=\"0 0 24 24\"\n",
              "       width=\"24px\">\n",
              "    <path d=\"M0 0h24v24H0V0z\" fill=\"none\"/>\n",
              "    <path d=\"M18.56 5.44l.94 2.06.94-2.06 2.06-.94-2.06-.94-.94-2.06-.94 2.06-2.06.94zm-11 1L8.5 8.5l.94-2.06 2.06-.94-2.06-.94L8.5 2.5l-.94 2.06-2.06.94zm10 10l.94 2.06.94-2.06 2.06-.94-2.06-.94-.94-2.06-.94 2.06-2.06.94z\"/><path d=\"M17.41 7.96l-1.37-1.37c-.4-.4-.92-.59-1.43-.59-.52 0-1.04.2-1.43.59L10.3 9.45l-7.72 7.72c-.78.78-.78 2.05 0 2.83L4 21.41c.39.39.9.59 1.41.59.51 0 1.02-.2 1.41-.59l7.78-7.78 2.81-2.81c.8-.78.8-2.07 0-2.86zM5.41 20L4 18.59l7.72-7.72 1.47 1.35L5.41 20z\"/>\n",
              "  </svg>\n",
              "      </button>\n",
              "\n",
              "\n",
              "\n",
              "    <div id=\"df-2ad2b723-8e04-4204-85f8-df9f53aad6a8\">\n",
              "      <button class=\"colab-df-quickchart\" onclick=\"quickchart('df-2ad2b723-8e04-4204-85f8-df9f53aad6a8')\"\n",
              "              title=\"Suggest charts.\"\n",
              "              style=\"display:none;\">\n",
              "\n",
              "<svg xmlns=\"http://www.w3.org/2000/svg\" height=\"24px\"viewBox=\"0 0 24 24\"\n",
              "     width=\"24px\">\n",
              "    <g>\n",
              "        <path d=\"M19 3H5c-1.1 0-2 .9-2 2v14c0 1.1.9 2 2 2h14c1.1 0 2-.9 2-2V5c0-1.1-.9-2-2-2zM9 17H7v-7h2v7zm4 0h-2V7h2v10zm4 0h-2v-4h2v4z\"/>\n",
              "    </g>\n",
              "</svg>\n",
              "      </button>\n",
              "    </div>\n",
              "\n",
              "<style>\n",
              "  .colab-df-quickchart {\n",
              "    background-color: #E8F0FE;\n",
              "    border: none;\n",
              "    border-radius: 50%;\n",
              "    cursor: pointer;\n",
              "    display: none;\n",
              "    fill: #1967D2;\n",
              "    height: 32px;\n",
              "    padding: 0 0 0 0;\n",
              "    width: 32px;\n",
              "  }\n",
              "\n",
              "  .colab-df-quickchart:hover {\n",
              "    background-color: #E2EBFA;\n",
              "    box-shadow: 0px 1px 2px rgba(60, 64, 67, 0.3), 0px 1px 3px 1px rgba(60, 64, 67, 0.15);\n",
              "    fill: #174EA6;\n",
              "  }\n",
              "\n",
              "  [theme=dark] .colab-df-quickchart {\n",
              "    background-color: #3B4455;\n",
              "    fill: #D2E3FC;\n",
              "  }\n",
              "\n",
              "  [theme=dark] .colab-df-quickchart:hover {\n",
              "    background-color: #434B5C;\n",
              "    box-shadow: 0px 1px 3px 1px rgba(0, 0, 0, 0.15);\n",
              "    filter: drop-shadow(0px 1px 2px rgba(0, 0, 0, 0.3));\n",
              "    fill: #FFFFFF;\n",
              "  }\n",
              "</style>\n",
              "\n",
              "    <script>\n",
              "      async function quickchart(key) {\n",
              "        const containerElement = document.querySelector('#' + key);\n",
              "        const charts = await google.colab.kernel.invokeFunction(\n",
              "            'suggestCharts', [key], {});\n",
              "      }\n",
              "    </script>\n",
              "\n",
              "      <script>\n",
              "\n",
              "function displayQuickchartButton(domScope) {\n",
              "  let quickchartButtonEl =\n",
              "    domScope.querySelector('#df-2ad2b723-8e04-4204-85f8-df9f53aad6a8 button.colab-df-quickchart');\n",
              "  quickchartButtonEl.style.display =\n",
              "    google.colab.kernel.accessAllowed ? 'block' : 'none';\n",
              "}\n",
              "\n",
              "        displayQuickchartButton(document);\n",
              "      </script>\n",
              "      <style>\n",
              "    .colab-df-container {\n",
              "      display:flex;\n",
              "      flex-wrap:wrap;\n",
              "      gap: 12px;\n",
              "    }\n",
              "\n",
              "    .colab-df-convert {\n",
              "      background-color: #E8F0FE;\n",
              "      border: none;\n",
              "      border-radius: 50%;\n",
              "      cursor: pointer;\n",
              "      display: none;\n",
              "      fill: #1967D2;\n",
              "      height: 32px;\n",
              "      padding: 0 0 0 0;\n",
              "      width: 32px;\n",
              "    }\n",
              "\n",
              "    .colab-df-convert:hover {\n",
              "      background-color: #E2EBFA;\n",
              "      box-shadow: 0px 1px 2px rgba(60, 64, 67, 0.3), 0px 1px 3px 1px rgba(60, 64, 67, 0.15);\n",
              "      fill: #174EA6;\n",
              "    }\n",
              "\n",
              "    [theme=dark] .colab-df-convert {\n",
              "      background-color: #3B4455;\n",
              "      fill: #D2E3FC;\n",
              "    }\n",
              "\n",
              "    [theme=dark] .colab-df-convert:hover {\n",
              "      background-color: #434B5C;\n",
              "      box-shadow: 0px 1px 3px 1px rgba(0, 0, 0, 0.15);\n",
              "      filter: drop-shadow(0px 1px 2px rgba(0, 0, 0, 0.3));\n",
              "      fill: #FFFFFF;\n",
              "    }\n",
              "  </style>\n",
              "\n",
              "      <script>\n",
              "        const buttonEl =\n",
              "          document.querySelector('#df-a737e9d9-594d-4688-9a7d-67363ea9e68c button.colab-df-convert');\n",
              "        buttonEl.style.display =\n",
              "          google.colab.kernel.accessAllowed ? 'block' : 'none';\n",
              "\n",
              "        async function convertToInteractive(key) {\n",
              "          const element = document.querySelector('#df-a737e9d9-594d-4688-9a7d-67363ea9e68c');\n",
              "          const dataTable =\n",
              "            await google.colab.kernel.invokeFunction('convertToInteractive',\n",
              "                                                     [key], {});\n",
              "          if (!dataTable) return;\n",
              "\n",
              "          const docLinkHtml = 'Like what you see? Visit the ' +\n",
              "            '<a target=\"_blank\" href=https://colab.research.google.com/notebooks/data_table.ipynb>data table notebook</a>'\n",
              "            + ' to learn more about interactive tables.';\n",
              "          element.innerHTML = '';\n",
              "          dataTable['output_type'] = 'display_data';\n",
              "          await google.colab.output.renderOutput(dataTable, element);\n",
              "          const docLink = document.createElement('div');\n",
              "          docLink.innerHTML = docLinkHtml;\n",
              "          element.appendChild(docLink);\n",
              "        }\n",
              "      </script>\n",
              "    </div>\n",
              "  </div>\n"
            ]
          },
          "metadata": {},
          "execution_count": 21
        }
      ]
    },
    {
      "cell_type": "markdown",
      "source": [
        "**C. Explore the data using pandas**"
      ],
      "metadata": {
        "id": "Y7-0-a6ElHNP"
      }
    },
    {
      "cell_type": "code",
      "source": [
        "df.shape"
      ],
      "metadata": {
        "colab": {
          "base_uri": "https://localhost:8080/"
        },
        "id": "CobZD69hkPMW",
        "outputId": "57bc90b7-51f5-4a16-b6df-17a4801d4560"
      },
      "execution_count": null,
      "outputs": [
        {
          "output_type": "execute_result",
          "data": {
            "text/plain": [
              "(17000, 9)"
            ]
          },
          "metadata": {},
          "execution_count": 22
        }
      ]
    },
    {
      "cell_type": "code",
      "source": [
        "df.dtypes"
      ],
      "metadata": {
        "colab": {
          "base_uri": "https://localhost:8080/"
        },
        "id": "mWJfd-_qka60",
        "outputId": "f1384328-621e-4d8f-9e0b-a073c533fe4f"
      },
      "execution_count": null,
      "outputs": [
        {
          "output_type": "execute_result",
          "data": {
            "text/plain": [
              "longitude             float64\n",
              "latitude              float64\n",
              "housing_median_age    float64\n",
              "total_rooms           float64\n",
              "total_bedrooms        float64\n",
              "population            float64\n",
              "households            float64\n",
              "median_income         float64\n",
              "median_house_value    float64\n",
              "dtype: object"
            ]
          },
          "metadata": {},
          "execution_count": 23
        }
      ]
    },
    {
      "cell_type": "code",
      "source": [
        "# Checking NULL\n",
        "df.isnull().sum()"
      ],
      "metadata": {
        "colab": {
          "base_uri": "https://localhost:8080/"
        },
        "id": "ij6hVONxkdPU",
        "outputId": "518d9795-63fb-4b7a-c600-951c5f8a2d5c"
      },
      "execution_count": null,
      "outputs": [
        {
          "output_type": "execute_result",
          "data": {
            "text/plain": [
              "longitude             0\n",
              "latitude              0\n",
              "housing_median_age    0\n",
              "total_rooms           0\n",
              "total_bedrooms        0\n",
              "population            0\n",
              "households            0\n",
              "median_income         0\n",
              "median_house_value    0\n",
              "dtype: int64"
            ]
          },
          "metadata": {},
          "execution_count": 24
        }
      ]
    },
    {
      "cell_type": "markdown",
      "source": [
        "***D. Spliting the data into X and y, where X is a set of predictors and y is the target***"
      ],
      "metadata": {
        "id": "_fDHENsdlf6b"
      }
    },
    {
      "cell_type": "code",
      "source": [
        "y = df.pop(\"median_house_value\")\n",
        "X = df"
      ],
      "metadata": {
        "id": "23-an8vqksNn"
      },
      "execution_count": null,
      "outputs": []
    },
    {
      "cell_type": "markdown",
      "source": [
        "**E. Standardise dataset using StandardScaler**"
      ],
      "metadata": {
        "id": "JrRuOvafmrt1"
      }
    },
    {
      "cell_type": "code",
      "source": [
        "ss = StandardScaler()"
      ],
      "metadata": {
        "id": "obUD2hSImofC"
      },
      "execution_count": null,
      "outputs": []
    },
    {
      "cell_type": "code",
      "source": [
        "ss_fit = ss.fit_transform(X)"
      ],
      "metadata": {
        "id": "st1xpAGenuyO"
      },
      "execution_count": null,
      "outputs": []
    },
    {
      "cell_type": "markdown",
      "source": [
        "**F. Split dataset into train/test dataset**"
      ],
      "metadata": {
        "id": "xxT8_eGYoK7x"
      }
    },
    {
      "cell_type": "code",
      "source": [
        "X_train,X_test, y_train,y_test = train_test_split(X, y, test_size = 0.25)"
      ],
      "metadata": {
        "id": "eFj2bp6Xn7EY"
      },
      "execution_count": null,
      "outputs": []
    },
    {
      "cell_type": "code",
      "source": [
        "X_train.shape\n",
        "X_test.shape"
      ],
      "metadata": {
        "colab": {
          "base_uri": "https://localhost:8080/"
        },
        "id": "KL-tdfhJoYoz",
        "outputId": "72b40fde-61fb-4b73-9d29-43096762b442"
      },
      "execution_count": null,
      "outputs": [
        {
          "output_type": "execute_result",
          "data": {
            "text/plain": [
              "(12750, 8)"
            ]
          },
          "metadata": {},
          "execution_count": 31
        },
        {
          "output_type": "execute_result",
          "data": {
            "text/plain": [
              "(4250, 8)"
            ]
          },
          "metadata": {},
          "execution_count": 31
        }
      ]
    },
    {
      "cell_type": "markdown",
      "source": [
        "**G. Build a Neural Network model to make prediction of target**"
      ],
      "metadata": {
        "id": "bPHPyanepUjv"
      }
    },
    {
      "cell_type": "code",
      "source": [
        "model = tf.keras.Sequential()"
      ],
      "metadata": {
        "id": "fnvQUknUoe-O"
      },
      "execution_count": 61,
      "outputs": []
    },
    {
      "cell_type": "code",
      "source": [
        "model.add(layers.Input( shape = (8,) ) )"
      ],
      "metadata": {
        "id": "7nYlp82hpZ_e"
      },
      "execution_count": 62,
      "outputs": []
    },
    {
      "cell_type": "code",
      "source": [
        "model.add(tf.keras.layers.Dense(25, activation = 'relu'))"
      ],
      "metadata": {
        "id": "GRfu97KSphSP"
      },
      "execution_count": 63,
      "outputs": []
    },
    {
      "cell_type": "code",
      "source": [
        "model.add(tf.keras.layers.Dense(1, activation = 'relu'))"
      ],
      "metadata": {
        "id": "Avns4SW1p_pG"
      },
      "execution_count": 64,
      "outputs": []
    },
    {
      "cell_type": "code",
      "source": [
        "model.compile( loss = \"mae\")"
      ],
      "metadata": {
        "id": "5nt44s2ErHAh"
      },
      "execution_count": 65,
      "outputs": []
    },
    {
      "cell_type": "code",
      "source": [
        "model.fit(X,y, epochs = 100 )"
      ],
      "metadata": {
        "colab": {
          "base_uri": "https://localhost:8080/"
        },
        "id": "aDklL7_KrHY2",
        "outputId": "e3f20d9b-298b-498f-f444-fd1be52e66be"
      },
      "execution_count": 66,
      "outputs": [
        {
          "output_type": "stream",
          "name": "stdout",
          "text": [
            "Epoch 1/100\n",
            "532/532 [==============================] - 2s 2ms/step - loss: 198565.2344\n",
            "Epoch 2/100\n",
            "532/532 [==============================] - 1s 2ms/step - loss: 161933.6719\n",
            "Epoch 3/100\n",
            "532/532 [==============================] - 1s 2ms/step - loss: 125180.4297\n",
            "Epoch 4/100\n",
            "532/532 [==============================] - 1s 2ms/step - loss: 117743.3594\n",
            "Epoch 5/100\n",
            "532/532 [==============================] - 1s 1ms/step - loss: 116940.4844\n",
            "Epoch 6/100\n",
            "532/532 [==============================] - 1s 2ms/step - loss: 116132.3906\n",
            "Epoch 7/100\n",
            "532/532 [==============================] - 1s 1ms/step - loss: 115275.9922\n",
            "Epoch 8/100\n",
            "532/532 [==============================] - 1s 1ms/step - loss: 114362.8359\n",
            "Epoch 9/100\n",
            "532/532 [==============================] - 1s 1ms/step - loss: 113391.7656\n",
            "Epoch 10/100\n",
            "532/532 [==============================] - 1s 2ms/step - loss: 112324.1328\n",
            "Epoch 11/100\n",
            "532/532 [==============================] - 1s 2ms/step - loss: 111186.2344\n",
            "Epoch 12/100\n",
            "532/532 [==============================] - 1s 2ms/step - loss: 109884.8828\n",
            "Epoch 13/100\n",
            "532/532 [==============================] - 1s 1ms/step - loss: 108497.0938\n",
            "Epoch 14/100\n",
            "532/532 [==============================] - 1s 1ms/step - loss: 106952.3125\n",
            "Epoch 15/100\n",
            "532/532 [==============================] - 1s 1ms/step - loss: 105255.3906\n",
            "Epoch 16/100\n",
            "532/532 [==============================] - 1s 1ms/step - loss: 103505.6172\n",
            "Epoch 17/100\n",
            "532/532 [==============================] - 1s 1ms/step - loss: 101628.2031\n",
            "Epoch 18/100\n",
            "532/532 [==============================] - 1s 2ms/step - loss: 99715.9766\n",
            "Epoch 19/100\n",
            "532/532 [==============================] - 1s 2ms/step - loss: 97714.1016\n",
            "Epoch 20/100\n",
            "532/532 [==============================] - 1s 1ms/step - loss: 95597.2031\n",
            "Epoch 21/100\n",
            "532/532 [==============================] - 1s 1ms/step - loss: 93587.1562\n",
            "Epoch 22/100\n",
            "532/532 [==============================] - 1s 2ms/step - loss: 91560.4062\n",
            "Epoch 23/100\n",
            "532/532 [==============================] - 1s 2ms/step - loss: 89701.8750\n",
            "Epoch 24/100\n",
            "532/532 [==============================] - 1s 2ms/step - loss: 88083.4531\n",
            "Epoch 25/100\n",
            "532/532 [==============================] - 1s 2ms/step - loss: 86609.2656\n",
            "Epoch 26/100\n",
            "532/532 [==============================] - 1s 2ms/step - loss: 85409.4531\n",
            "Epoch 27/100\n",
            "532/532 [==============================] - 1s 2ms/step - loss: 84447.1250\n",
            "Epoch 28/100\n",
            "532/532 [==============================] - 1s 2ms/step - loss: 83737.5859\n",
            "Epoch 29/100\n",
            "532/532 [==============================] - 1s 2ms/step - loss: 83271.5078\n",
            "Epoch 30/100\n",
            "532/532 [==============================] - 1s 2ms/step - loss: 82953.4141\n",
            "Epoch 31/100\n",
            "532/532 [==============================] - 1s 2ms/step - loss: 82712.1562\n",
            "Epoch 32/100\n",
            "532/532 [==============================] - 1s 2ms/step - loss: 82511.3125\n",
            "Epoch 33/100\n",
            "532/532 [==============================] - 1s 2ms/step - loss: 82393.9219\n",
            "Epoch 34/100\n",
            "532/532 [==============================] - 1s 2ms/step - loss: 82275.3047\n",
            "Epoch 35/100\n",
            "532/532 [==============================] - 1s 1ms/step - loss: 82163.0312\n",
            "Epoch 36/100\n",
            "532/532 [==============================] - 1s 1ms/step - loss: 82064.7500\n",
            "Epoch 37/100\n",
            "532/532 [==============================] - 1s 1ms/step - loss: 81961.9922\n",
            "Epoch 38/100\n",
            "532/532 [==============================] - 1s 2ms/step - loss: 81853.1172\n",
            "Epoch 39/100\n",
            "532/532 [==============================] - 1s 2ms/step - loss: 81772.2266\n",
            "Epoch 40/100\n",
            "532/532 [==============================] - 1s 2ms/step - loss: 81668.7500\n",
            "Epoch 41/100\n",
            "532/532 [==============================] - 1s 2ms/step - loss: 81573.5391\n",
            "Epoch 42/100\n",
            "532/532 [==============================] - 1s 2ms/step - loss: 81455.3984\n",
            "Epoch 43/100\n",
            "532/532 [==============================] - 1s 1ms/step - loss: 81354.9609\n",
            "Epoch 44/100\n",
            "532/532 [==============================] - 1s 2ms/step - loss: 81219.1016\n",
            "Epoch 45/100\n",
            "532/532 [==============================] - 1s 2ms/step - loss: 81122.7109\n",
            "Epoch 46/100\n",
            "532/532 [==============================] - 1s 1ms/step - loss: 81023.9766\n",
            "Epoch 47/100\n",
            "532/532 [==============================] - 1s 1ms/step - loss: 80875.9609\n",
            "Epoch 48/100\n",
            "532/532 [==============================] - 1s 1ms/step - loss: 80769.8125\n",
            "Epoch 49/100\n",
            "532/532 [==============================] - 1s 1ms/step - loss: 80662.6094\n",
            "Epoch 50/100\n",
            "532/532 [==============================] - 1s 1ms/step - loss: 80534.9609\n",
            "Epoch 51/100\n",
            "532/532 [==============================] - 1s 1ms/step - loss: 80426.0859\n",
            "Epoch 52/100\n",
            "532/532 [==============================] - 1s 1ms/step - loss: 80296.6250\n",
            "Epoch 53/100\n",
            "532/532 [==============================] - 1s 1ms/step - loss: 80196.8047\n",
            "Epoch 54/100\n",
            "532/532 [==============================] - 1s 2ms/step - loss: 80063.3047\n",
            "Epoch 55/100\n",
            "532/532 [==============================] - 1s 2ms/step - loss: 79955.4922\n",
            "Epoch 56/100\n",
            "532/532 [==============================] - 1s 2ms/step - loss: 79832.8594\n",
            "Epoch 57/100\n",
            "532/532 [==============================] - 1s 2ms/step - loss: 79719.8594\n",
            "Epoch 58/100\n",
            "532/532 [==============================] - 1s 1ms/step - loss: 79597.8594\n",
            "Epoch 59/100\n",
            "532/532 [==============================] - 1s 1ms/step - loss: 79472.2109\n",
            "Epoch 60/100\n",
            "532/532 [==============================] - 1s 1ms/step - loss: 79355.0469\n",
            "Epoch 61/100\n",
            "532/532 [==============================] - 1s 1ms/step - loss: 79214.2031\n",
            "Epoch 62/100\n",
            "532/532 [==============================] - 1s 1ms/step - loss: 79092.0078\n",
            "Epoch 63/100\n",
            "532/532 [==============================] - 1s 1ms/step - loss: 78998.3359\n",
            "Epoch 64/100\n",
            "532/532 [==============================] - 1s 1ms/step - loss: 78877.5391\n",
            "Epoch 65/100\n",
            "532/532 [==============================] - 1s 1ms/step - loss: 78736.8281\n",
            "Epoch 66/100\n",
            "532/532 [==============================] - 1s 1ms/step - loss: 78618.3906\n",
            "Epoch 67/100\n",
            "532/532 [==============================] - 1s 1ms/step - loss: 78479.9531\n",
            "Epoch 68/100\n",
            "532/532 [==============================] - 1s 1ms/step - loss: 78383.2188\n",
            "Epoch 69/100\n",
            "532/532 [==============================] - 1s 2ms/step - loss: 78245.9531\n",
            "Epoch 70/100\n",
            "532/532 [==============================] - 1s 2ms/step - loss: 78121.7344\n",
            "Epoch 71/100\n",
            "532/532 [==============================] - 1s 2ms/step - loss: 77982.7188\n",
            "Epoch 72/100\n",
            "532/532 [==============================] - 1s 2ms/step - loss: 77886.2266\n",
            "Epoch 73/100\n",
            "532/532 [==============================] - 1s 1ms/step - loss: 77756.2812\n",
            "Epoch 74/100\n",
            "532/532 [==============================] - 1s 1ms/step - loss: 77631.8984\n",
            "Epoch 75/100\n",
            "532/532 [==============================] - 1s 2ms/step - loss: 77523.3828\n",
            "Epoch 76/100\n",
            "532/532 [==============================] - 1s 1ms/step - loss: 77384.4219\n",
            "Epoch 77/100\n",
            "532/532 [==============================] - 1s 1ms/step - loss: 77263.6641\n",
            "Epoch 78/100\n",
            "532/532 [==============================] - 1s 1ms/step - loss: 77140.3438\n",
            "Epoch 79/100\n",
            "532/532 [==============================] - 1s 2ms/step - loss: 77039.3281\n",
            "Epoch 80/100\n",
            "532/532 [==============================] - 1s 1ms/step - loss: 76917.6328\n",
            "Epoch 81/100\n",
            "532/532 [==============================] - 1s 2ms/step - loss: 76803.0547\n",
            "Epoch 82/100\n",
            "532/532 [==============================] - 1s 1ms/step - loss: 76674.2891\n",
            "Epoch 83/100\n",
            "532/532 [==============================] - 1s 1ms/step - loss: 76548.5625\n",
            "Epoch 84/100\n",
            "532/532 [==============================] - 1s 1ms/step - loss: 76453.1719\n",
            "Epoch 85/100\n",
            "532/532 [==============================] - 1s 2ms/step - loss: 76319.0859\n",
            "Epoch 86/100\n",
            "532/532 [==============================] - 1s 2ms/step - loss: 76219.9766\n",
            "Epoch 87/100\n",
            "532/532 [==============================] - 1s 2ms/step - loss: 76111.9453\n",
            "Epoch 88/100\n",
            "532/532 [==============================] - 1s 1ms/step - loss: 75991.4297\n",
            "Epoch 89/100\n",
            "532/532 [==============================] - 1s 1ms/step - loss: 75868.9141\n",
            "Epoch 90/100\n",
            "532/532 [==============================] - 1s 1ms/step - loss: 75761.8750\n",
            "Epoch 91/100\n",
            "532/532 [==============================] - 1s 1ms/step - loss: 75658.0156\n",
            "Epoch 92/100\n",
            "532/532 [==============================] - 1s 1ms/step - loss: 75526.0703\n",
            "Epoch 93/100\n",
            "532/532 [==============================] - 1s 1ms/step - loss: 75419.7188\n",
            "Epoch 94/100\n",
            "532/532 [==============================] - 1s 1ms/step - loss: 75289.4141\n",
            "Epoch 95/100\n",
            "532/532 [==============================] - 1s 1ms/step - loss: 75185.9766\n",
            "Epoch 96/100\n",
            "532/532 [==============================] - 1s 1ms/step - loss: 75067.1250\n",
            "Epoch 97/100\n",
            "532/532 [==============================] - 1s 2ms/step - loss: 74966.0234\n",
            "Epoch 98/100\n",
            "532/532 [==============================] - 1s 1ms/step - loss: 74841.9141\n",
            "Epoch 99/100\n",
            "532/532 [==============================] - 1s 1ms/step - loss: 74723.0469\n",
            "Epoch 100/100\n",
            "532/532 [==============================] - 1s 2ms/step - loss: 74615.6953\n"
          ]
        },
        {
          "output_type": "execute_result",
          "data": {
            "text/plain": [
              "<keras.callbacks.History at 0x7970f68df340>"
            ]
          },
          "metadata": {},
          "execution_count": 66
        }
      ]
    },
    {
      "cell_type": "code",
      "source": [
        "from tensorflow.keras.utils import plot_model"
      ],
      "metadata": {
        "id": "1RzCpIHmrJaq"
      },
      "execution_count": 67,
      "outputs": []
    },
    {
      "cell_type": "code",
      "source": [
        "model.summary()"
      ],
      "metadata": {
        "colab": {
          "base_uri": "https://localhost:8080/"
        },
        "id": "mxaRFHrqsjgv",
        "outputId": "9e3daa77-7965-4cb8-b444-7ef8f2c626a5"
      },
      "execution_count": 68,
      "outputs": [
        {
          "output_type": "stream",
          "name": "stdout",
          "text": [
            "Model: \"sequential_2\"\n",
            "_________________________________________________________________\n",
            " Layer (type)                Output Shape              Param #   \n",
            "=================================================================\n",
            " dense_7 (Dense)             (None, 25)                225       \n",
            "                                                                 \n",
            " dense_8 (Dense)             (None, 1)                 26        \n",
            "                                                                 \n",
            "=================================================================\n",
            "Total params: 251\n",
            "Trainable params: 251\n",
            "Non-trainable params: 0\n",
            "_________________________________________________________________\n"
          ]
        }
      ]
    },
    {
      "cell_type": "code",
      "source": [
        "plot_model(model, show_shapes=True)"
      ],
      "metadata": {
        "colab": {
          "base_uri": "https://localhost:8080/",
          "height": 312
        },
        "id": "bIlozg_erMPw",
        "outputId": "65aa1f51-a75c-4696-8958-1f5b809e5b29"
      },
      "execution_count": 69,
      "outputs": [
        {
          "output_type": "execute_result",
          "data": {
            "image/png": "[encoded data removed]",
            "text/plain": [
              "<IPython.core.display.Image object>"
            ]
          },
          "metadata": {},
          "execution_count": 69
        }
      ]
    },
    {
      "cell_type": "markdown",
      "source": [
        "**G. Make predictions of test data using the model**"
      ],
      "metadata": {
        "id": "Htic2T6ispLU"
      }
    },
    {
      "cell_type": "code",
      "source": [
        "pred = model.predict(X_test)"
      ],
      "metadata": {
        "colab": {
          "base_uri": "https://localhost:8080/"
        },
        "id": "xGslh3FMsHoL",
        "outputId": "d6c2b649-73fd-43bb-85bd-5af90c929aca"
      },
      "execution_count": 70,
      "outputs": [
        {
          "output_type": "stream",
          "name": "stdout",
          "text": [
            "133/133 [==============================] - 0s 1ms/step\n"
          ]
        }
      ]
    },
    {
      "cell_type": "code",
      "source": [
        "xy=pred.flatten()"
      ],
      "metadata": {
        "id": "0XqtAuLcsJq_"
      },
      "execution_count": 74,
      "outputs": []
    },
    {
      "cell_type": "code",
      "source": [
        "xy"
      ],
      "metadata": {
        "colab": {
          "base_uri": "https://localhost:8080/"
        },
        "id": "4seXPyevtUKX",
        "outputId": "0437de42-c94b-4b0a-c6e0-7b2738da86ab"
      },
      "execution_count": 75,
      "outputs": [
        {
          "output_type": "execute_result",
          "data": {
            "text/plain": [
              "array([168374.95, 193669.28, 195949.77, ..., 156593.52, 183530.66,\n",
              "       173250.81], dtype=float32)"
            ]
          },
          "metadata": {},
          "execution_count": 75
        }
      ]
    },
    {
      "cell_type": "code",
      "source": [
        "yy=y_test.values"
      ],
      "metadata": {
        "id": "3u_KpNhosW4G"
      },
      "execution_count": 56,
      "outputs": []
    },
    {
      "cell_type": "code",
      "source": [
        "yy"
      ],
      "metadata": {
        "colab": {
          "base_uri": "https://localhost:8080/"
        },
        "id": "IWO2XXg0sYSu",
        "outputId": "c9aec45b-da95-4115-d7fc-f500b8dcf922"
      },
      "execution_count": 58,
      "outputs": [
        {
          "output_type": "execute_result",
          "data": {
            "text/plain": [
              "array([ 65500., 149900., 196300., ...,  84000., 152900., 139800.])"
            ]
          },
          "metadata": {},
          "execution_count": 58
        }
      ]
    },
    {
      "cell_type": "code",
      "source": [
        "(xy==yy).sum()/len(yy)"
      ],
      "metadata": {
        "colab": {
          "base_uri": "https://localhost:8080/"
        },
        "id": "pHGFr9I9sY0F",
        "outputId": "53fd9a4e-f62d-4bfb-cc35-2a00ac2ac792"
      },
      "execution_count": 76,
      "outputs": [
        {
          "output_type": "execute_result",
          "data": {
            "text/plain": [
              "0.0"
            ]
          },
          "metadata": {},
          "execution_count": 76
        }
      ]
    }
  ]
}