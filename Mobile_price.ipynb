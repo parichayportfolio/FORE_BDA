{
  "nbformat": 4,
  "nbformat_minor": 0,
  "metadata": {
    "colab": {
      "provenance": [],
      "authorship_tag": "ABX9TyOfYJQfRmWDk62wWr6zBiwD",
      "include_colab_link": true
    },
    "kernelspec": {
      "name": "python3",
      "display_name": "Python 3"
    },
    "language_info": {
      "name": "python"
    }
  },
  "cells": [
    {
      "cell_type": "markdown",
      "metadata": {
        "id": "view-in-github",
        "colab_type": "text"
      },
      "source": [
        "<a href=\"https://colab.research.google.com/github/parichayportfolio/FORE_BDA/blob/main/Mobile_price.ipynb\" target=\"_parent\"><img src=\"https://colab.research.google.com/assets/colab-badge.svg\" alt=\"Open In Colab\"/></a>"
      ]
    },
    {
      "cell_type": "code",
      "execution_count": null,
      "metadata": {
        "id": "Qh5-BpWFpdfz"
      },
      "outputs": [],
      "source": [
        "# 1.0 Call libraries\n",
        "import pandas as pd\n",
        "import numpy as np\n",
        "from  pathlib import Path\n",
        "\n",
        "# 1.0.1\n",
        "import tensorflow as tf\n",
        "from tensorflow import keras\n",
        "from tensorflow.keras import layers"
      ]
    },
    {
      "cell_type": "code",
      "source": [
        "# 1.1 Display multiple commands output from a cell\n",
        "from IPython.core.interactiveshell import InteractiveShell\n",
        "InteractiveShell.ast_node_interactivity = \"all\""
      ],
      "metadata": {
        "id": "kA9iykSzpoNM"
      },
      "execution_count": null,
      "outputs": []
    },
    {
      "cell_type": "code",
      "source": [
        "# 2.0\n",
        "from google.colab import drive\n",
        "drive.mount('/gdrive')"
      ],
      "metadata": {
        "colab": {
          "base_uri": "https://localhost:8080/"
        },
        "id": "mj7PriZ_pssL",
        "outputId": "ea86397f-a34c-4d01-a2d0-9bdbd3ec3626"
      },
      "execution_count": null,
      "outputs": [
        {
          "output_type": "stream",
          "name": "stdout",
          "text": [
            "Mounted at /gdrive\n"
          ]
        }
      ]
    },
    {
      "cell_type": "code",
      "source": [
        "# 2.1 Where is our data file:\n",
        "pathToFolder = \"/gdrive/MyDrive/deeplearning\""
      ],
      "metadata": {
        "id": "4gUGqEZIpuw7"
      },
      "execution_count": null,
      "outputs": []
    },
    {
      "cell_type": "code",
      "source": [
        "# 2.2 Full file path:\n",
        "path = Path(pathToFolder) / \"mobile_price.csv\""
      ],
      "metadata": {
        "id": "HweefJqwqkor"
      },
      "execution_count": null,
      "outputs": []
    },
    {
      "cell_type": "code",
      "source": [
        "# 3.0 Read data\n",
        "mobile_price = pd.read_csv(path)\n",
        "mobile_price.head()"
      ],
      "metadata": {
        "colab": {
          "base_uri": "https://localhost:8080/",
          "height": 300
        },
        "id": "4b2DCe7kqp9b",
        "outputId": "cb69889a-b173-46f8-dcad-e21540658699"
      },
      "execution_count": null,
      "outputs": [
        {
          "output_type": "execute_result",
          "data": {
            "text/plain": [
              "   battery_power  blue  clock_speed  dual_sim  fc  four_g  int_memory  m_dep  \\\n",
              "0            842     0          2.2         0   1       0           7    0.6   \n",
              "1           1021     1          0.5         1   0       1          53    0.7   \n",
              "2            563     1          0.5         1   2       1          41    0.9   \n",
              "3            615     1          2.5         0   0       0          10    0.8   \n",
              "4           1821     1          1.2         0  13       1          44    0.6   \n",
              "\n",
              "   mobile_wt  n_cores  ...  px_height  px_width   ram  sc_h  sc_w  talk_time  \\\n",
              "0        188        2  ...         20       756  2549     9     7         19   \n",
              "1        136        3  ...        905      1988  2631    17     3          7   \n",
              "2        145        5  ...       1263      1716  2603    11     2          9   \n",
              "3        131        6  ...       1216      1786  2769    16     8         11   \n",
              "4        141        2  ...       1208      1212  1411     8     2         15   \n",
              "\n",
              "   three_g  touch_screen  wifi  price_range  \n",
              "0        0             0     1            1  \n",
              "1        1             1     0            2  \n",
              "2        1             1     0            2  \n",
              "3        1             0     0            2  \n",
              "4        1             1     0            1  \n",
              "\n",
              "[5 rows x 21 columns]"
            ],
            "text/html": [
              "\n",
              "\n",
              "  <div id=\"df-ede86c5c-006c-4b20-b769-03a0f96164dd\">\n",
              "    <div class=\"colab-df-container\">\n",
              "      <div>\n",
              "<style scoped>\n",
              "    .dataframe tbody tr th:only-of-type {\n",
              "        vertical-align: middle;\n",
              "    }\n",
              "\n",
              "    .dataframe tbody tr th {\n",
              "        vertical-align: top;\n",
              "    }\n",
              "\n",
              "    .dataframe thead th {\n",
              "        text-align: right;\n",
              "    }\n",
              "</style>\n",
              "<table border=\"1\" class=\"dataframe\">\n",
              "  <thead>\n",
              "    <tr style=\"text-align: right;\">\n",
              "      <th></th>\n",
              "      <th>battery_power</th>\n",
              "      <th>blue</th>\n",
              "      <th>clock_speed</th>\n",
              "      <th>dual_sim</th>\n",
              "      <th>fc</th>\n",
              "      <th>four_g</th>\n",
              "      <th>int_memory</th>\n",
              "      <th>m_dep</th>\n",
              "      <th>mobile_wt</th>\n",
              "      <th>n_cores</th>\n",
              "      <th>...</th>\n",
              "      <th>px_height</th>\n",
              "      <th>px_width</th>\n",
              "      <th>ram</th>\n",
              "      <th>sc_h</th>\n",
              "      <th>sc_w</th>\n",
              "      <th>talk_time</th>\n",
              "      <th>three_g</th>\n",
              "      <th>touch_screen</th>\n",
              "      <th>wifi</th>\n",
              "      <th>price_range</th>\n",
              "    </tr>\n",
              "  </thead>\n",
              "  <tbody>\n",
              "    <tr>\n",
              "      <th>0</th>\n",
              "      <td>842</td>\n",
              "      <td>0</td>\n",
              "      <td>2.2</td>\n",
              "      <td>0</td>\n",
              "      <td>1</td>\n",
              "      <td>0</td>\n",
              "      <td>7</td>\n",
              "      <td>0.6</td>\n",
              "      <td>188</td>\n",
              "      <td>2</td>\n",
              "      <td>...</td>\n",
              "      <td>20</td>\n",
              "      <td>756</td>\n",
              "      <td>2549</td>\n",
              "      <td>9</td>\n",
              "      <td>7</td>\n",
              "      <td>19</td>\n",
              "      <td>0</td>\n",
              "      <td>0</td>\n",
              "      <td>1</td>\n",
              "      <td>1</td>\n",
              "    </tr>\n",
              "    <tr>\n",
              "      <th>1</th>\n",
              "      <td>1021</td>\n",
              "      <td>1</td>\n",
              "      <td>0.5</td>\n",
              "      <td>1</td>\n",
              "      <td>0</td>\n",
              "      <td>1</td>\n",
              "      <td>53</td>\n",
              "      <td>0.7</td>\n",
              "      <td>136</td>\n",
              "      <td>3</td>\n",
              "      <td>...</td>\n",
              "      <td>905</td>\n",
              "      <td>1988</td>\n",
              "      <td>2631</td>\n",
              "      <td>17</td>\n",
              "      <td>3</td>\n",
              "      <td>7</td>\n",
              "      <td>1</td>\n",
              "      <td>1</td>\n",
              "      <td>0</td>\n",
              "      <td>2</td>\n",
              "    </tr>\n",
              "    <tr>\n",
              "      <th>2</th>\n",
              "      <td>563</td>\n",
              "      <td>1</td>\n",
              "      <td>0.5</td>\n",
              "      <td>1</td>\n",
              "      <td>2</td>\n",
              "      <td>1</td>\n",
              "      <td>41</td>\n",
              "      <td>0.9</td>\n",
              "      <td>145</td>\n",
              "      <td>5</td>\n",
              "      <td>...</td>\n",
              "      <td>1263</td>\n",
              "      <td>1716</td>\n",
              "      <td>2603</td>\n",
              "      <td>11</td>\n",
              "      <td>2</td>\n",
              "      <td>9</td>\n",
              "      <td>1</td>\n",
              "      <td>1</td>\n",
              "      <td>0</td>\n",
              "      <td>2</td>\n",
              "    </tr>\n",
              "    <tr>\n",
              "      <th>3</th>\n",
              "      <td>615</td>\n",
              "      <td>1</td>\n",
              "      <td>2.5</td>\n",
              "      <td>0</td>\n",
              "      <td>0</td>\n",
              "      <td>0</td>\n",
              "      <td>10</td>\n",
              "      <td>0.8</td>\n",
              "      <td>131</td>\n",
              "      <td>6</td>\n",
              "      <td>...</td>\n",
              "      <td>1216</td>\n",
              "      <td>1786</td>\n",
              "      <td>2769</td>\n",
              "      <td>16</td>\n",
              "      <td>8</td>\n",
              "      <td>11</td>\n",
              "      <td>1</td>\n",
              "      <td>0</td>\n",
              "      <td>0</td>\n",
              "      <td>2</td>\n",
              "    </tr>\n",
              "    <tr>\n",
              "      <th>4</th>\n",
              "      <td>1821</td>\n",
              "      <td>1</td>\n",
              "      <td>1.2</td>\n",
              "      <td>0</td>\n",
              "      <td>13</td>\n",
              "      <td>1</td>\n",
              "      <td>44</td>\n",
              "      <td>0.6</td>\n",
              "      <td>141</td>\n",
              "      <td>2</td>\n",
              "      <td>...</td>\n",
              "      <td>1208</td>\n",
              "      <td>1212</td>\n",
              "      <td>1411</td>\n",
              "      <td>8</td>\n",
              "      <td>2</td>\n",
              "      <td>15</td>\n",
              "      <td>1</td>\n",
              "      <td>1</td>\n",
              "      <td>0</td>\n",
              "      <td>1</td>\n",
              "    </tr>\n",
              "  </tbody>\n",
              "</table>\n",
              "<p>5 rows × 21 columns</p>\n",
              "</div>\n",
              "      <button class=\"colab-df-convert\" onclick=\"convertToInteractive('df-ede86c5c-006c-4b20-b769-03a0f96164dd')\"\n",
              "              title=\"Convert this dataframe to an interactive table.\"\n",
              "              style=\"display:none;\">\n",
              "\n",
              "  <svg xmlns=\"http://www.w3.org/2000/svg\" height=\"24px\"viewBox=\"0 0 24 24\"\n",
              "       width=\"24px\">\n",
              "    <path d=\"M0 0h24v24H0V0z\" fill=\"none\"/>\n",
              "    <path d=\"M18.56 5.44l.94 2.06.94-2.06 2.06-.94-2.06-.94-.94-2.06-.94 2.06-2.06.94zm-11 1L8.5 8.5l.94-2.06 2.06-.94-2.06-.94L8.5 2.5l-.94 2.06-2.06.94zm10 10l.94 2.06.94-2.06 2.06-.94-2.06-.94-.94-2.06-.94 2.06-2.06.94z\"/><path d=\"M17.41 7.96l-1.37-1.37c-.4-.4-.92-.59-1.43-.59-.52 0-1.04.2-1.43.59L10.3 9.45l-7.72 7.72c-.78.78-.78 2.05 0 2.83L4 21.41c.39.39.9.59 1.41.59.51 0 1.02-.2 1.41-.59l7.78-7.78 2.81-2.81c.8-.78.8-2.07 0-2.86zM5.41 20L4 18.59l7.72-7.72 1.47 1.35L5.41 20z\"/>\n",
              "  </svg>\n",
              "      </button>\n",
              "\n",
              "\n",
              "\n",
              "    <div id=\"df-7e8fb9a5-c9cb-42a5-8c28-6150a337d5dc\">\n",
              "      <button class=\"colab-df-quickchart\" onclick=\"quickchart('df-7e8fb9a5-c9cb-42a5-8c28-6150a337d5dc')\"\n",
              "              title=\"Suggest charts.\"\n",
              "              style=\"display:none;\">\n",
              "\n",
              "<svg xmlns=\"http://www.w3.org/2000/svg\" height=\"24px\"viewBox=\"0 0 24 24\"\n",
              "     width=\"24px\">\n",
              "    <g>\n",
              "        <path d=\"M19 3H5c-1.1 0-2 .9-2 2v14c0 1.1.9 2 2 2h14c1.1 0 2-.9 2-2V5c0-1.1-.9-2-2-2zM9 17H7v-7h2v7zm4 0h-2V7h2v10zm4 0h-2v-4h2v4z\"/>\n",
              "    </g>\n",
              "</svg>\n",
              "      </button>\n",
              "    </div>\n",
              "\n",
              "<style>\n",
              "  .colab-df-quickchart {\n",
              "    background-color: #E8F0FE;\n",
              "    border: none;\n",
              "    border-radius: 50%;\n",
              "    cursor: pointer;\n",
              "    display: none;\n",
              "    fill: #1967D2;\n",
              "    height: 32px;\n",
              "    padding: 0 0 0 0;\n",
              "    width: 32px;\n",
              "  }\n",
              "\n",
              "  .colab-df-quickchart:hover {\n",
              "    background-color: #E2EBFA;\n",
              "    box-shadow: 0px 1px 2px rgba(60, 64, 67, 0.3), 0px 1px 3px 1px rgba(60, 64, 67, 0.15);\n",
              "    fill: #174EA6;\n",
              "  }\n",
              "\n",
              "  [theme=dark] .colab-df-quickchart {\n",
              "    background-color: #3B4455;\n",
              "    fill: #D2E3FC;\n",
              "  }\n",
              "\n",
              "  [theme=dark] .colab-df-quickchart:hover {\n",
              "    background-color: #434B5C;\n",
              "    box-shadow: 0px 1px 3px 1px rgba(0, 0, 0, 0.15);\n",
              "    filter: drop-shadow(0px 1px 2px rgba(0, 0, 0, 0.3));\n",
              "    fill: #FFFFFF;\n",
              "  }\n",
              "</style>\n",
              "\n",
              "    <script>\n",
              "      async function quickchart(key) {\n",
              "        const containerElement = document.querySelector('#' + key);\n",
              "        const charts = await google.colab.kernel.invokeFunction(\n",
              "            'suggestCharts', [key], {});\n",
              "      }\n",
              "    </script>\n",
              "\n",
              "      <script>\n",
              "\n",
              "function displayQuickchartButton(domScope) {\n",
              "  let quickchartButtonEl =\n",
              "    domScope.querySelector('#df-7e8fb9a5-c9cb-42a5-8c28-6150a337d5dc button.colab-df-quickchart');\n",
              "  quickchartButtonEl.style.display =\n",
              "    google.colab.kernel.accessAllowed ? 'block' : 'none';\n",
              "}\n",
              "\n",
              "        displayQuickchartButton(document);\n",
              "      </script>\n",
              "      <style>\n",
              "    .colab-df-container {\n",
              "      display:flex;\n",
              "      flex-wrap:wrap;\n",
              "      gap: 12px;\n",
              "    }\n",
              "\n",
              "    .colab-df-convert {\n",
              "      background-color: #E8F0FE;\n",
              "      border: none;\n",
              "      border-radius: 50%;\n",
              "      cursor: pointer;\n",
              "      display: none;\n",
              "      fill: #1967D2;\n",
              "      height: 32px;\n",
              "      padding: 0 0 0 0;\n",
              "      width: 32px;\n",
              "    }\n",
              "\n",
              "    .colab-df-convert:hover {\n",
              "      background-color: #E2EBFA;\n",
              "      box-shadow: 0px 1px 2px rgba(60, 64, 67, 0.3), 0px 1px 3px 1px rgba(60, 64, 67, 0.15);\n",
              "      fill: #174EA6;\n",
              "    }\n",
              "\n",
              "    [theme=dark] .colab-df-convert {\n",
              "      background-color: #3B4455;\n",
              "      fill: #D2E3FC;\n",
              "    }\n",
              "\n",
              "    [theme=dark] .colab-df-convert:hover {\n",
              "      background-color: #434B5C;\n",
              "      box-shadow: 0px 1px 3px 1px rgba(0, 0, 0, 0.15);\n",
              "      filter: drop-shadow(0px 1px 2px rgba(0, 0, 0, 0.3));\n",
              "      fill: #FFFFFF;\n",
              "    }\n",
              "  </style>\n",
              "\n",
              "      <script>\n",
              "        const buttonEl =\n",
              "          document.querySelector('#df-ede86c5c-006c-4b20-b769-03a0f96164dd button.colab-df-convert');\n",
              "        buttonEl.style.display =\n",
              "          google.colab.kernel.accessAllowed ? 'block' : 'none';\n",
              "\n",
              "        async function convertToInteractive(key) {\n",
              "          const element = document.querySelector('#df-ede86c5c-006c-4b20-b769-03a0f96164dd');\n",
              "          const dataTable =\n",
              "            await google.colab.kernel.invokeFunction('convertToInteractive',\n",
              "                                                     [key], {});\n",
              "          if (!dataTable) return;\n",
              "\n",
              "          const docLinkHtml = 'Like what you see? Visit the ' +\n",
              "            '<a target=\"_blank\" href=https://colab.research.google.com/notebooks/data_table.ipynb>data table notebook</a>'\n",
              "            + ' to learn more about interactive tables.';\n",
              "          element.innerHTML = '';\n",
              "          dataTable['output_type'] = 'display_data';\n",
              "          await google.colab.output.renderOutput(dataTable, element);\n",
              "          const docLink = document.createElement('div');\n",
              "          docLink.innerHTML = docLinkHtml;\n",
              "          element.appendChild(docLink);\n",
              "        }\n",
              "      </script>\n",
              "    </div>\n",
              "  </div>\n"
            ]
          },
          "metadata": {},
          "execution_count": 6
        }
      ]
    },
    {
      "cell_type": "code",
      "source": [
        "# 3.1\n",
        "mobile_price.shape"
      ],
      "metadata": {
        "colab": {
          "base_uri": "https://localhost:8080/"
        },
        "id": "c33kw1xpqwkL",
        "outputId": "bd0f4c10-e53c-4866-cf1b-04abfc93a5b3"
      },
      "execution_count": null,
      "outputs": [
        {
          "output_type": "execute_result",
          "data": {
            "text/plain": [
              "(2000, 20)"
            ]
          },
          "metadata": {},
          "execution_count": 23
        }
      ]
    },
    {
      "cell_type": "code",
      "source": [
        "mobile_price.dtypes"
      ],
      "metadata": {
        "colab": {
          "base_uri": "https://localhost:8080/"
        },
        "id": "MoPPCH_Kq8Vb",
        "outputId": "246b7dde-26d2-41a2-cdd3-da3f347eaceb"
      },
      "execution_count": null,
      "outputs": [
        {
          "output_type": "execute_result",
          "data": {
            "text/plain": [
              "battery_power      int64\n",
              "blue               int64\n",
              "clock_speed      float64\n",
              "dual_sim           int64\n",
              "fc                 int64\n",
              "four_g             int64\n",
              "int_memory         int64\n",
              "m_dep            float64\n",
              "n_cores            int64\n",
              "pc                 int64\n",
              "px_height          int64\n",
              "px_width           int64\n",
              "ram                int64\n",
              "sc_h               int64\n",
              "sc_w               int64\n",
              "talk_time          int64\n",
              "three_g            int64\n",
              "touch_screen       int64\n",
              "wifi               int64\n",
              "price_range        int64\n",
              "dtype: object"
            ]
          },
          "metadata": {},
          "execution_count": 24
        }
      ]
    },
    {
      "cell_type": "code",
      "source": [
        "# 3.2 Get target and predictors:\n",
        "y = mobile_price.pop(\"mobile_wt\")\n",
        "X = mobile_price"
      ],
      "metadata": {
        "id": "qJxadffkrBLb"
      },
      "execution_count": null,
      "outputs": []
    },
    {
      "cell_type": "code",
      "source": [
        "# 4.0 Build model:\n",
        "\n",
        "model = tf.keras.Sequential()"
      ],
      "metadata": {
        "id": "d2_XfiNerK1K"
      },
      "execution_count": null,
      "outputs": []
    },
    {
      "cell_type": "code",
      "source": [
        "# 4.1\n",
        "model.add(layers.Input( shape = (20,) ) )"
      ],
      "metadata": {
        "id": "A96cGETerPuq"
      },
      "execution_count": null,
      "outputs": []
    },
    {
      "cell_type": "code",
      "source": [
        "# 4.2\n",
        "model.add(layers.Dense(1))"
      ],
      "metadata": {
        "id": "X3DdTAzyFZwB"
      },
      "execution_count": null,
      "outputs": []
    },
    {
      "cell_type": "code",
      "source": [
        "model.add(layers.Dense(895, activation ='relu'))"
      ],
      "metadata": {
        "id": "AN4QOWAYFr-d"
      },
      "execution_count": null,
      "outputs": []
    },
    {
      "cell_type": "code",
      "source": [
        "model.add(layers.Dense(595, activation ='relu'))"
      ],
      "metadata": {
        "id": "n05_t2D-Fr0K"
      },
      "execution_count": null,
      "outputs": []
    },
    {
      "cell_type": "code",
      "source": [
        "# 4.2.1\n",
        "weights, bias = model.weights"
      ],
      "metadata": {
        "id": "gjGt5l6iFgNF"
      },
      "execution_count": null,
      "outputs": []
    },
    {
      "cell_type": "code",
      "source": [
        "# 4.2.2\n",
        "weights"
      ],
      "metadata": {
        "colab": {
          "base_uri": "https://localhost:8080/"
        },
        "id": "AYjkkJ3nFhkF",
        "outputId": "60b268da-c5ab-4811-fcdc-ffe5d7ba3602"
      },
      "execution_count": null,
      "outputs": [
        {
          "output_type": "execute_result",
          "data": {
            "text/plain": [
              "<tf.Variable 'dense/kernel:0' shape=(20, 1) dtype=float32, numpy=\n",
              "array([[-0.37113842],\n",
              "       [ 0.09747994],\n",
              "       [-0.12655783],\n",
              "       [ 0.35297543],\n",
              "       [ 0.47196096],\n",
              "       [-0.52146864],\n",
              "       [ 0.524661  ],\n",
              "       [ 0.02121687],\n",
              "       [-0.43869352],\n",
              "       [-0.38223666],\n",
              "       [-0.33287722],\n",
              "       [-0.3047713 ],\n",
              "       [ 0.12386489],\n",
              "       [ 0.09242123],\n",
              "       [-0.00976205],\n",
              "       [-0.14092809],\n",
              "       [-0.04962721],\n",
              "       [-0.09649739],\n",
              "       [-0.04090011],\n",
              "       [ 0.1718592 ]], dtype=float32)>"
            ]
          },
          "metadata": {},
          "execution_count": 12
        }
      ]
    },
    {
      "cell_type": "code",
      "source": [
        "# 4.2.3\n",
        "bias"
      ],
      "metadata": {
        "colab": {
          "base_uri": "https://localhost:8080/"
        },
        "id": "t2rRCyDDFi1p",
        "outputId": "6dd8c24e-4193-4c38-df63-b0dd772e2de3"
      },
      "execution_count": null,
      "outputs": [
        {
          "output_type": "execute_result",
          "data": {
            "text/plain": [
              "<tf.Variable 'dense/bias:0' shape=(1,) dtype=float32, numpy=array([0.], dtype=float32)>"
            ]
          },
          "metadata": {},
          "execution_count": 13
        }
      ]
    },
    {
      "cell_type": "code",
      "source": [
        "#4.3 Compile\n",
        "model.compile( loss = \"mae\")"
      ],
      "metadata": {
        "id": "ODn5Odg2FkO6"
      },
      "execution_count": null,
      "outputs": []
    },
    {
      "cell_type": "code",
      "source": [
        "# 4.4 Train\n",
        "model.fit(X,y, epochs = 100 )"
      ],
      "metadata": {
        "colab": {
          "base_uri": "https://localhost:8080/"
        },
        "id": "MJQh-UsMFlPF",
        "outputId": "9d9b2aaa-3d6d-45eb-fdc5-687589c14e2b"
      },
      "execution_count": null,
      "outputs": [
        {
          "output_type": "stream",
          "name": "stdout",
          "text": [
            "Epoch 1/100\n",
            "63/63 [==============================] - 1s 8ms/step - loss: 97.6663\n",
            "Epoch 2/100\n",
            "63/63 [==============================] - 0s 8ms/step - loss: 93.5614\n",
            "Epoch 3/100\n",
            "63/63 [==============================] - 0s 7ms/step - loss: 90.4684\n",
            "Epoch 4/100\n",
            "63/63 [==============================] - 0s 7ms/step - loss: 87.6033\n",
            "Epoch 5/100\n",
            "63/63 [==============================] - 0s 7ms/step - loss: 85.7019\n",
            "Epoch 6/100\n",
            "63/63 [==============================] - 0s 8ms/step - loss: 83.9968\n",
            "Epoch 7/100\n",
            "63/63 [==============================] - 0s 7ms/step - loss: 82.2893\n",
            "Epoch 8/100\n",
            "63/63 [==============================] - 0s 7ms/step - loss: 80.8033\n",
            "Epoch 9/100\n",
            "63/63 [==============================] - 0s 7ms/step - loss: 79.5912\n",
            "Epoch 10/100\n",
            "63/63 [==============================] - 0s 7ms/step - loss: 78.9581\n",
            "Epoch 11/100\n",
            "63/63 [==============================] - 0s 7ms/step - loss: 78.0793\n",
            "Epoch 12/100\n",
            "63/63 [==============================] - 0s 7ms/step - loss: 76.9833\n",
            "Epoch 13/100\n",
            "63/63 [==============================] - 0s 7ms/step - loss: 76.3583\n",
            "Epoch 14/100\n",
            "63/63 [==============================] - 0s 8ms/step - loss: 75.5531\n",
            "Epoch 15/100\n",
            "63/63 [==============================] - 0s 8ms/step - loss: 74.4710\n",
            "Epoch 16/100\n",
            "63/63 [==============================] - 0s 7ms/step - loss: 74.0505\n",
            "Epoch 17/100\n",
            "63/63 [==============================] - 0s 8ms/step - loss: 73.5343\n",
            "Epoch 18/100\n",
            "63/63 [==============================] - 0s 7ms/step - loss: 73.2111\n",
            "Epoch 19/100\n",
            "63/63 [==============================] - 0s 7ms/step - loss: 72.6156\n",
            "Epoch 20/100\n",
            "63/63 [==============================] - 1s 9ms/step - loss: 72.2623\n",
            "Epoch 21/100\n",
            "63/63 [==============================] - 1s 12ms/step - loss: 72.0889\n",
            "Epoch 22/100\n",
            "63/63 [==============================] - 1s 12ms/step - loss: 71.8678\n",
            "Epoch 23/100\n",
            "63/63 [==============================] - 1s 12ms/step - loss: 71.2945\n",
            "Epoch 24/100\n",
            "63/63 [==============================] - 1s 12ms/step - loss: 71.0025\n",
            "Epoch 25/100\n",
            "63/63 [==============================] - 1s 11ms/step - loss: 70.8360\n",
            "Epoch 26/100\n",
            "63/63 [==============================] - 1s 11ms/step - loss: 70.5182\n",
            "Epoch 27/100\n",
            "63/63 [==============================] - 0s 7ms/step - loss: 70.3349\n",
            "Epoch 28/100\n",
            "63/63 [==============================] - 0s 7ms/step - loss: 70.1993\n",
            "Epoch 29/100\n",
            "63/63 [==============================] - 0s 7ms/step - loss: 69.9667\n",
            "Epoch 30/100\n",
            "63/63 [==============================] - 0s 8ms/step - loss: 69.8872\n",
            "Epoch 31/100\n",
            "63/63 [==============================] - 0s 7ms/step - loss: 69.5833\n",
            "Epoch 32/100\n",
            "63/63 [==============================] - 0s 7ms/step - loss: 69.3243\n",
            "Epoch 33/100\n",
            "63/63 [==============================] - 0s 7ms/step - loss: 69.0108\n",
            "Epoch 34/100\n",
            "63/63 [==============================] - 0s 7ms/step - loss: 68.9402\n",
            "Epoch 35/100\n",
            "63/63 [==============================] - 0s 7ms/step - loss: 69.0102\n",
            "Epoch 36/100\n",
            "63/63 [==============================] - 0s 7ms/step - loss: 68.8826\n",
            "Epoch 37/100\n",
            "63/63 [==============================] - 0s 8ms/step - loss: 68.9084\n",
            "Epoch 38/100\n",
            "63/63 [==============================] - 0s 7ms/step - loss: 68.8182\n",
            "Epoch 39/100\n",
            "63/63 [==============================] - 0s 7ms/step - loss: 68.7438\n",
            "Epoch 40/100\n",
            "63/63 [==============================] - 0s 7ms/step - loss: 68.4554\n",
            "Epoch 41/100\n",
            "63/63 [==============================] - 0s 7ms/step - loss: 68.3071\n",
            "Epoch 42/100\n",
            "63/63 [==============================] - 0s 7ms/step - loss: 68.1950\n",
            "Epoch 43/100\n",
            "63/63 [==============================] - 0s 7ms/step - loss: 68.0259\n",
            "Epoch 44/100\n",
            "63/63 [==============================] - 0s 7ms/step - loss: 67.8583\n",
            "Epoch 45/100\n",
            "63/63 [==============================] - 0s 7ms/step - loss: 67.6056\n",
            "Epoch 46/100\n",
            "63/63 [==============================] - 0s 7ms/step - loss: 67.6564\n",
            "Epoch 47/100\n",
            "63/63 [==============================] - 0s 7ms/step - loss: 67.5358\n",
            "Epoch 48/100\n",
            "63/63 [==============================] - 1s 10ms/step - loss: 67.4026\n",
            "Epoch 49/100\n",
            "63/63 [==============================] - 1s 12ms/step - loss: 67.3725\n",
            "Epoch 50/100\n",
            "63/63 [==============================] - 1s 12ms/step - loss: 67.1188\n",
            "Epoch 51/100\n",
            "63/63 [==============================] - 1s 12ms/step - loss: 67.0751\n",
            "Epoch 52/100\n",
            "63/63 [==============================] - 1s 12ms/step - loss: 67.2178\n",
            "Epoch 53/100\n",
            "63/63 [==============================] - 1s 12ms/step - loss: 67.1260\n",
            "Epoch 54/100\n",
            "63/63 [==============================] - 1s 9ms/step - loss: 67.2840\n",
            "Epoch 55/100\n",
            "63/63 [==============================] - 0s 7ms/step - loss: 67.0437\n",
            "Epoch 56/100\n",
            "63/63 [==============================] - 0s 7ms/step - loss: 67.0486\n",
            "Epoch 57/100\n",
            "63/63 [==============================] - 0s 7ms/step - loss: 66.9978\n",
            "Epoch 58/100\n",
            "63/63 [==============================] - 0s 7ms/step - loss: 67.0167\n",
            "Epoch 59/100\n",
            "63/63 [==============================] - 0s 8ms/step - loss: 67.0181\n",
            "Epoch 60/100\n",
            "63/63 [==============================] - 0s 7ms/step - loss: 66.9852\n",
            "Epoch 61/100\n",
            "63/63 [==============================] - 1s 11ms/step - loss: 66.6889\n",
            "Epoch 62/100\n",
            "63/63 [==============================] - 0s 8ms/step - loss: 66.7920\n",
            "Epoch 63/100\n",
            "63/63 [==============================] - 1s 10ms/step - loss: 66.3856\n",
            "Epoch 64/100\n",
            "63/63 [==============================] - 0s 7ms/step - loss: 66.4539\n",
            "Epoch 65/100\n",
            "63/63 [==============================] - 0s 7ms/step - loss: 66.4524\n",
            "Epoch 66/100\n",
            "63/63 [==============================] - 0s 7ms/step - loss: 66.5383\n",
            "Epoch 67/100\n",
            "63/63 [==============================] - 0s 7ms/step - loss: 66.2352\n",
            "Epoch 68/100\n",
            "63/63 [==============================] - 0s 7ms/step - loss: 65.9519\n",
            "Epoch 69/100\n",
            "63/63 [==============================] - 0s 7ms/step - loss: 65.7155\n",
            "Epoch 70/100\n",
            "63/63 [==============================] - 0s 7ms/step - loss: 65.8283\n",
            "Epoch 71/100\n",
            "63/63 [==============================] - 0s 7ms/step - loss: 65.7678\n",
            "Epoch 72/100\n",
            "63/63 [==============================] - 0s 7ms/step - loss: 65.6213\n",
            "Epoch 73/100\n",
            "63/63 [==============================] - 0s 7ms/step - loss: 65.3582\n",
            "Epoch 74/100\n",
            "63/63 [==============================] - 0s 7ms/step - loss: 65.2839\n",
            "Epoch 75/100\n",
            "63/63 [==============================] - 1s 12ms/step - loss: 65.3531\n",
            "Epoch 76/100\n",
            "63/63 [==============================] - 1s 12ms/step - loss: 65.4628\n",
            "Epoch 77/100\n",
            "63/63 [==============================] - 1s 12ms/step - loss: 65.1972\n",
            "Epoch 78/100\n",
            "63/63 [==============================] - 1s 12ms/step - loss: 65.1216\n",
            "Epoch 79/100\n",
            "63/63 [==============================] - 1s 12ms/step - loss: 65.1696\n",
            "Epoch 80/100\n",
            "63/63 [==============================] - 1s 12ms/step - loss: 65.2528\n",
            "Epoch 81/100\n",
            "63/63 [==============================] - 0s 7ms/step - loss: 65.0236\n",
            "Epoch 82/100\n",
            "63/63 [==============================] - 0s 7ms/step - loss: 64.8885\n",
            "Epoch 83/100\n",
            "63/63 [==============================] - 0s 7ms/step - loss: 64.8049\n",
            "Epoch 84/100\n",
            "63/63 [==============================] - 0s 7ms/step - loss: 64.7963\n",
            "Epoch 85/100\n",
            "63/63 [==============================] - 0s 7ms/step - loss: 64.7890\n",
            "Epoch 86/100\n",
            "63/63 [==============================] - 0s 8ms/step - loss: 64.6734\n",
            "Epoch 87/100\n",
            "63/63 [==============================] - 0s 7ms/step - loss: 64.7514\n",
            "Epoch 88/100\n",
            "63/63 [==============================] - 0s 7ms/step - loss: 64.5260\n",
            "Epoch 89/100\n",
            "63/63 [==============================] - 0s 7ms/step - loss: 64.5650\n",
            "Epoch 90/100\n",
            "63/63 [==============================] - 0s 7ms/step - loss: 64.6119\n",
            "Epoch 91/100\n",
            "63/63 [==============================] - 0s 7ms/step - loss: 64.5576\n",
            "Epoch 92/100\n",
            "63/63 [==============================] - 0s 8ms/step - loss: 64.4260\n",
            "Epoch 93/100\n",
            "63/63 [==============================] - 0s 8ms/step - loss: 64.5195\n",
            "Epoch 94/100\n",
            "63/63 [==============================] - 0s 7ms/step - loss: 64.2231\n",
            "Epoch 95/100\n",
            "63/63 [==============================] - 1s 8ms/step - loss: 64.1168\n",
            "Epoch 96/100\n",
            "63/63 [==============================] - 0s 7ms/step - loss: 64.1215\n",
            "Epoch 97/100\n",
            "63/63 [==============================] - 0s 8ms/step - loss: 64.1378\n",
            "Epoch 98/100\n",
            "63/63 [==============================] - 0s 7ms/step - loss: 63.8872\n",
            "Epoch 99/100\n",
            "63/63 [==============================] - 0s 7ms/step - loss: 63.8169\n",
            "Epoch 100/100\n",
            "63/63 [==============================] - 1s 14ms/step - loss: 63.8781\n"
          ]
        },
        {
          "output_type": "execute_result",
          "data": {
            "text/plain": [
              "<keras.callbacks.History at 0x79fc580fdc30>"
            ]
          },
          "metadata": {},
          "execution_count": 22
        }
      ]
    },
    {
      "cell_type": "code",
      "source": [
        "from tensorflow.keras.utils import plot_model"
      ],
      "metadata": {
        "id": "a7lc592RFmol"
      },
      "execution_count": null,
      "outputs": []
    },
    {
      "cell_type": "code",
      "source": [
        "plot_model(model, show_shapes=True)"
      ],
      "metadata": {
        "colab": {
          "base_uri": "https://localhost:8080/",
          "height": 422
        },
        "id": "6-yktcYZHLOC",
        "outputId": "019bf50e-2d50-4f1e-c399-6990898aca4a"
      },
      "execution_count": null,
      "outputs": [
        {
          "output_type": "execute_result",
          "data": {
            "image/png": "[encoded data removed]",
            "text/plain": [
              "<IPython.core.display.Image object>"
            ]
          },
          "metadata": {},
          "execution_count": 26
        }
      ]
    },
    {
      "cell_type": "code",
      "source": [],
      "metadata": {
        "id": "IpBAySZbHMd5"
      },
      "execution_count": null,
      "outputs": []
    }
  ]
}